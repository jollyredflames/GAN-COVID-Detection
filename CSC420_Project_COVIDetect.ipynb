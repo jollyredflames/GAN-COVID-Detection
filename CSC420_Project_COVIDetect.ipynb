{
  "nbformat": 4,
  "nbformat_minor": 0,
  "metadata": {
    "kernelspec": {
      "display_name": "Python 3",
      "language": "python",
      "name": "python3"
    },
    "language_info": {
      "codemirror_mode": {
        "name": "ipython",
        "version": 3
      },
      "file_extension": ".py",
      "mimetype": "text/x-python",
      "name": "python",
      "nbconvert_exporter": "python",
      "pygments_lexer": "ipython3",
      "version": "3.6.6"
    },
    "colab": {
      "name": "CSC420_Project_COVIDetect.ipynb",
      "provenance": [],
      "collapsed_sections": [],
      "machine_shape": "hm",
      "include_colab_link": true
    },
    "accelerator": "GPU"
  },
  "cells": [
    {
      "cell_type": "markdown",
      "metadata": {
        "id": "view-in-github",
        "colab_type": "text"
      },
      "source": [
        "<a href=\"https://colab.research.google.com/github/jollyredflames/GAN-COVID-Detection/blob/master/CSC420_Project_COVIDetect.ipynb\" target=\"_parent\"><img src=\"https://colab.research.google.com/assets/colab-badge.svg\" alt=\"Open In Colab\"/></a>"
      ]
    },
    {
      "cell_type": "markdown",
      "metadata": {
        "id": "qGsqJC9iB0TM",
        "colab_type": "text"
      },
      "source": [
        "# Introduction"
      ]
    },
    {
      "cell_type": "markdown",
      "metadata": {
        "id": "YU1cqBJiIkGB",
        "colab_type": "text"
      },
      "source": [
        "The following lines outline the efforts we have taken to repurpose the conditional-adversarial model presented in the pix2pix paper as an anomaly detection model to detect the cases of viral pneumonia from the chest X-ray images. \n",
        "\n",
        "The original model is aimed at a way of style-transfer between pairs of images. For example, the model can be trained on the pairs of aerial images and maps, so in the deployment, it draws maps from aerial images. \n",
        "\n",
        "We have made changes to the original pix2pix model that we discuss here:\n",
        "\n",
        "* The pix2pix model's Generator utilizes the UNet design where skip connections are shared between the encoder/decoder layers. This makes sense in the context of style transfer since we want the network to be able to utilize the information from the input image to come up with the output. However, in the Anomaly Detection context, we want the network to learn to reconstruct CXR images by itself. This means the network will, in theory, do a good job of reconstructing the images it has seen in training (\"normal\" cases) and it will do poorly for the category of images it does not encounter in training (\"abnormal cases\").\n",
        "\n",
        "* Both pix2pix model and our model utilize convolutional autoencoders. However, the pix2pix model shrinks the images a lot before the autoencoder level. However, we want the network to focus on the \"local\" features of images. Therefore, the number of layers in our Generator has been reduced to 4 on each side of the autoencoder. Since the Discriminator is also just a simple convolutional neural network, we have also reduced the number of layers too to reflect the changes for the Generator. "
      ]
    },
    {
      "cell_type": "markdown",
      "metadata": {
        "id": "C49tGWSYJoVl",
        "colab_type": "text"
      },
      "source": [
        "# Related Work"
      ]
    },
    {
      "cell_type": "markdown",
      "metadata": {
        "id": "wBFOKBycJrVr",
        "colab_type": "text"
      },
      "source": [
        "Zhang, J et al [1] has been the inspiration behind the work we have done here. They propose the confidence-aware anomaly detection (CAAD) model that works by a convolutional feature detector model feeding into an anomaly detection module and a confidence prediction module that works together to classify instances of healthy control, viral-pneumonia and non-viral pneumonia. Similar to our proposed model, CAAD utilizes an anomaly detection module that enables it to potentially train in the absence of viral pneumonia CXR cases. We have taken CAAD as the state-of-the-art model with a sweeping 87.47% AUC when the confidence prediction module and the anomaly detection module in it work in tandem. "
      ]
    },
    {
      "cell_type": "markdown",
      "metadata": {
        "id": "X5xi18m_KD2c",
        "colab_type": "text"
      },
      "source": [
        "# Disscussion "
      ]
    },
    {
      "cell_type": "markdown",
      "metadata": {
        "id": "XkC3dLSuKHeV",
        "colab_type": "text"
      },
      "source": [
        ""
      ]
    },
    {
      "cell_type": "markdown",
      "metadata": {
        "id": "oV5UUzdHKIS1",
        "colab_type": "text"
      },
      "source": [
        "# Documented Code"
      ]
    },
    {
      "cell_type": "markdown",
      "metadata": {
        "id": "b6b_tKIoKLei",
        "colab_type": "text"
      },
      "source": [
        "## Imports"
      ]
    },
    {
      "cell_type": "code",
      "metadata": {
        "id": "moDi2-UoB0TZ",
        "colab_type": "code",
        "colab": {
          "base_uri": "https://localhost:8080/",
          "height": 68
        },
        "outputId": "27a74bce-788b-4837-d687-8b2aa1455424"
      },
      "source": [
        "import torch \n",
        "print('torch version: ', torch.__version__)\n",
        "import torchvision\n",
        "print('torchvision version: ', torchvision.__version__)\n",
        "\n",
        "\n",
        "from torch.utils import data\n",
        "import torchvision.transforms as transforms\n",
        "from PIL import Image\n",
        "import numpy as np\n",
        "import matplotlib.pyplot as plt\n",
        "%matplotlib inline\n",
        "\n",
        "import os\n",
        "import re\n",
        "import zipfile\n",
        "import random\n",
        "import cv2\n",
        "\n",
        "import torch.nn as nn\n",
        "import torch.optim as optim\n",
        "from sklearn.utils import shuffle\n",
        "import pandas as pd\n",
        "from sklearn.model_selection import train_test_split\n",
        "from sklearn.model_selection import KFold\n",
        "from sklearn import metrics\n",
        "\n",
        "\n",
        "import glob, inspect, time, math\n",
        "from numpy import savetxt\n",
        "\n",
        "from torch.nn import functional as F\n",
        "from sklearn.decomposition import PCA\n",
        "from sklearn.manifold import TSNE\n",
        "\n",
        "torch.autograd.set_detect_anomaly(True)"
      ],
      "execution_count": 1,
      "outputs": [
        {
          "output_type": "stream",
          "text": [
            "torch version:  1.6.0+cu101\n",
            "torchvision version:  0.7.0+cu101\n"
          ],
          "name": "stdout"
        },
        {
          "output_type": "execute_result",
          "data": {
            "text/plain": [
              "<torch.autograd.anomaly_mode.set_detect_anomaly at 0x7f0a9a18d9b0>"
            ]
          },
          "metadata": {
            "tags": []
          },
          "execution_count": 1
        }
      ]
    },
    {
      "cell_type": "markdown",
      "metadata": {
        "id": "lEbaPqKTKSqp",
        "colab_type": "text"
      },
      "source": [
        "## Preparing the Dataset"
      ]
    },
    {
      "cell_type": "markdown",
      "metadata": {
        "id": "d3CJjJsxKWhZ",
        "colab_type": "text"
      },
      "source": [
        "Our current model utlizes a resized version of [CoronaHack](https://www.kaggle.com/praveengovi/coronahack-chest-xraydataset). To use the CXR images in our model, all images have been resized to 256*256. For the model training purposes we utlized Google Colab. The data has been uploaded to Google Drive as a zip file. Here we download the data and unzip it."
      ]
    },
    {
      "cell_type": "code",
      "metadata": {
        "id": "4ai2celgB0Tk",
        "colab_type": "code",
        "colab": {
          "base_uri": "https://localhost:8080/",
          "height": 34
        },
        "outputId": "5c68e343-e3af-4846-dff6-fc217511369b"
      },
      "source": [
        "from google.colab import drive\n",
        "drive.mount('/content/drive')"
      ],
      "execution_count": 2,
      "outputs": [
        {
          "output_type": "stream",
          "text": [
            "Drive already mounted at /content/drive; to attempt to forcibly remount, call drive.mount(\"/content/drive\", force_remount=True).\n"
          ],
          "name": "stdout"
        }
      ]
    },
    {
      "cell_type": "code",
      "metadata": {
        "id": "-z6U35cx4zJr",
        "colab_type": "code",
        "colab": {}
      },
      "source": [
        "data = os.path.join('.', 'drive')\n",
        "data = os.path.join(data, 'My Drive')\n",
        "data_folder = os.path.join(data, 'CSC420_Project')\n",
        "data_zip = os.path.join(data_folder, 'CoronaHack_Resized.zip')\n",
        "\n",
        "zip_ref = zipfile.ZipFile(data_zip, 'r')\n",
        "zip_ref.extractall('/content/CoronaHack')\n",
        "zip_ref.close()"
      ],
      "execution_count": 3,
      "outputs": []
    },
    {
      "cell_type": "code",
      "metadata": {
        "id": "nPgb8Ae9kHyV",
        "colab_type": "code",
        "colab": {
          "base_uri": "https://localhost:8080/",
          "height": 34
        },
        "outputId": "394c37ef-6d71-47d8-a263-3b7958b0a9ce"
      },
      "source": [
        "pic_path = '/content/CoronaHack/CoronaHack_Resized'\n",
        "\n",
        "print(\"Total number of CXR images: {}\".format(len(os.listdir(pic_path))))"
      ],
      "execution_count": 4,
      "outputs": [
        {
          "output_type": "stream",
          "text": [
            "Total number of CXR images: 5910\n"
          ],
          "name": "stdout"
        }
      ]
    },
    {
      "cell_type": "markdown",
      "metadata": {
        "id": "8KmIBlDQK9qk",
        "colab_type": "text"
      },
      "source": [
        "## Model Analytics and Logging"
      ]
    },
    {
      "cell_type": "markdown",
      "metadata": {
        "id": "ZRFF3TMjLCwc",
        "colab_type": "text"
      },
      "source": [
        "The training of neural networks is a costly procedure. We have designed a custome made system of saving model parameters in between training, test snapshots, and train summeries. \n",
        "\n",
        "The block below sets the model analytic paths, create the folders on Google Drive and write the headlines for CSV files that record the test/train snapshots. "
      ]
    },
    {
      "cell_type": "code",
      "metadata": {
        "id": "lR2MCNA3B0Tp",
        "colab_type": "code",
        "colab": {}
      },
      "source": [
        "## Change this based on you model name ##\n",
        "model_name = \"f1-AnomalyDetect\"\n",
        "#####################################\n",
        "\n",
        "def make_dir(path):\n",
        "    try: os.mkdir(path)\n",
        "    except: \n",
        "      pass\n",
        "\n",
        "\n",
        "save_path = F\"/content/drive/My Drive/CSC420_Project/Models/{model_name}\"\n",
        "param_save_path = save_path + \"/params\" \n",
        "snapshots_save_path = save_path + \"/snapshots\" \n",
        "results_path = save_path + \"/results\"\n",
        "\n",
        "OnTrain_summary_path = save_path+\"/01-OnTrain-summary.csv\"\n",
        "OnTestsnapshots_summary_path = save_path+\"/02-OnTest-snapshots-summary.csv\"\n",
        "    \n",
        "\n",
        "\n",
        "make_dir(results_path)\n",
        "make_dir(save_path)\n",
        "make_dir(param_save_path)\n",
        "make_dir(snapshots_save_path)\n",
        "\n",
        "result_list = [\"tr_restoring\", \"pca_latent_ontest\", \"tsne_latent_ontest\"]\n",
        "for result_name in result_list: make_dir(path=os.path.join(results_path, result_name))\n",
        "\n",
        "## Run this once for each model. It will re-write the files ##\n",
        "'''\n",
        "fcsv = open(OnTrain_summary_path, \"w\")\n",
        "fcsv.write(\"epoch,loss_D,loss_G,loss_D_real,loss_D_fake,loss_G_fake,loss_G_L2\\n\")\n",
        "fcsv.close()\n",
        "\n",
        "\n",
        "\n",
        "fcsv = open(OnTestsnapshots_summary_path, \"w\")\n",
        "fcsv.write(\"epoch,G_Normal_loss_Mean,G_AbNormal_loss_Mean,D_Normal_loss_Mean,D_AbNormal_loss_Mean,G_Normal_loss_SD,G_AbNormal_loss_SD,D_Normal_loss_SD,D_AbNormal_loss_SD,G_AUC,D_AUC\\n\")\n",
        "fcsv.close()\n",
        "'''"
      ],
      "execution_count": 5,
      "outputs": []
    },
    {
      "cell_type": "markdown",
      "metadata": {
        "id": "5O1k7ZdJB0Tt",
        "colab_type": "text"
      },
      "source": [
        "## Dataset Class"
      ]
    },
    {
      "cell_type": "markdown",
      "metadata": {
        "id": "yz0m3548LrRF",
        "colab_type": "text"
      },
      "source": [
        "Managing memory allocation is an important part of training any serious neural network. Unlike smaller datasets like MNIST, it is not possible to load the totality of CoronaHack on to the RAM prior to the training. \n",
        "\n",
        "Instead, we have designed and written a custome made dataset class. Out data directory consists of a folder of CXR images, and a CSV file preserving the path and lable information for each image. \n",
        "\n",
        "The Dataset object is responsible for loading train/test images in batches, splitting the data into folds (the design supports kfold cross-validation), and normalizing the data.\n"
      ]
    },
    {
      "cell_type": "code",
      "metadata": {
        "id": "hTQvCM3PkRG9",
        "colab_type": "code",
        "colab": {}
      },
      "source": [
        "data_path = os.path.join(os.getcwd(),  'CoronaHack')\n",
        "\n",
        "data_frame_path = os.path.join(data_path, 'dataset.csv')\n",
        "images_path = os.path.join(data_path, 'CoronaHack_Resized')\n",
        "\n",
        "\n",
        "class Dataset(object):\n",
        "\n",
        "    def __init__(self, normalize=True, normal=['Normal'], ab_normal=['Virus'], n_splits=3, n_exp=0):\n",
        "\n",
        "        print(\"\\nInitializing Dataset...\")\n",
        "\n",
        "        data_frame = pd.read_csv(data_frame_path)\n",
        "\n",
        "        self.data_frame = data_frame\n",
        "        self.normal_labels = normal\n",
        "        self.ab_normal_labels = ab_normal\n",
        "        self.normal_df = shuffle(data_frame.loc[data_frame['label'].isin(normal)], random_state=42)\n",
        "        self.ab_normal_df = shuffle(data_frame.loc[data_frame['label'].isin(ab_normal)], random_state=42)\n",
        "\n",
        "        kf_normal = KFold(n_splits=n_splits, random_state=42)\n",
        "\n",
        "        self.trains = []\n",
        "        self.tests_normals = []\n",
        "        self.tests_ab_normal = []\n",
        "\n",
        "        for train_index, test_index in kf_normal.split(self.normal_df):\n",
        "          self.trains.append(train_index)\n",
        "          self.tests_normals.append(test_index)\n",
        "\n",
        "        for train_index, test_index in kf_normal.split(self.ab_normal_df):\n",
        "          self.tests_ab_normal.append(test_index)\n",
        "\n",
        "        normal_df_train, normal_df_test = self.normal_df.iloc[self.trains[n_exp]], self.normal_df.iloc[self.tests_normals[n_exp]]\n",
        "        ab_normal_df_test = self.ab_normal_df.iloc[self.tests_ab_normal[n_exp]]\n",
        "        \n",
        "        #train_df, test_df = train_test_split(normal_df, test_size=0.33)\n",
        "\n",
        "        self.train_df = normal_df_train\n",
        "        self.test_df = shuffle(pd.concat([ab_normal_df_test, normal_df_test]), random_state=42)\n",
        "        print(\"Running experiment number {} out of {} ----  Train Cases: {} / Test Cases: {} Out of which {} are COVID\"\n",
        "              .format(n_exp, n_splits-1, self.train_df.shape[0], self.test_df.shape[0], ab_normal_df_test.shape[0]))\n",
        "\n",
        "\n",
        "        self.normalize = normalize\n",
        "\n",
        "\n",
        "        self.num_train, self.num_test = self.train_df.shape[0], self.test_df.shape[0]\n",
        "        self.idx_train, self.idx_test = 0, 0\n",
        "\n",
        "        sample_image = cv2.imread(os.path.join(images_path, self.train_df.iloc[0]['cxr_img']))\n",
        "\n",
        "        #self.height = sample_image.shape[0]\n",
        "        #self.width = sample_image.shape[1]\n",
        "\n",
        "        self.height = 256\n",
        "        self.width = 256\n",
        "        self.channel = 3\n",
        "\n",
        "\n",
        "        self.num_class = len(normal) + 1\n",
        "        self.min_val, self.max_val = sample_image.min(), sample_image.max()\n",
        "\n",
        "        print(\"Data Summery\")\n",
        "        print(\"Number of Training Cases: {}\".format(self.num_train))\n",
        "        print(\"Total Number of Test Cases: {}, Abnormal Cases: {}\".format(self.num_test, ab_normal_df_test.shape[0]))\n",
        "        print(\"Shape  Height: %d, Width: %d, Channel: %d\" %(self.height, self.width, self.channel))\n",
        "        print(\"Value  Min: %.3f, Max: %.3f\" %(self.min_val, self.max_val))\n",
        "        print(\"Number of classes:  %d\" %(self.num_class))\n",
        "        print(\"Normalization: %r\" %(self.normalize))\n",
        "        if(self.normalize): print(\"(from %.3f-%.3f to %.3f-%.3f)\" %(self.min_val, self.max_val, 0, 1))\n",
        "\n",
        "\n",
        "    def reset_idx(self): self.idx_train, self.idx_test = 0, 0\n",
        "\n",
        "    def next_train(self, batch_size=1):\n",
        "\n",
        "\n",
        "        start, end = self.idx_train, self.idx_train+batch_size\n",
        "\n",
        "        terminator = False\n",
        "        if(end >= self.num_train):\n",
        "            terminator = True\n",
        "            self.train_df = shuffle(self.train_df)\n",
        "            start = 0\n",
        "            end = batch_size\n",
        "\n",
        "        self.idx_train = end\n",
        "\n",
        "        train_images = np.zeros((batch_size, self.height, self.width, self.channel))\n",
        "        train_labels = np.zeros((batch_size), dtype=int)\n",
        "\n",
        "        for i in range(start, end):\n",
        "            img_path = self.train_df.iloc[i]['cxr_img']\n",
        "            img_path = os.path.join(images_path, img_path)\n",
        "            train_images[i-start] = cv2.imread(img_path)\n",
        "            train_labels[i-start] = 0\n",
        "\n",
        "\n",
        "        train_images = np.ndarray.astype(train_images, np.float32)\n",
        "\n",
        "\n",
        "        if(self.normalize):\n",
        "            min_x, max_x = train_images.min(), train_images.max()\n",
        "            train_images = (train_images - min_x) / (max_x - min_x)\n",
        "\n",
        "        train_images_torch = torch.from_numpy(np.transpose(train_images, (0, 3, 1, 2)))\n",
        "        train_labels_torch = torch.from_numpy(train_labels)\n",
        "\n",
        "        return train_images, train_images_torch, train_labels, train_labels_torch, terminator\n",
        "\n",
        "\n",
        "    def next_test(self, batch_size=1):\n",
        "\n",
        "        start, end = self.idx_test, self.idx_test + batch_size\n",
        "\n",
        "        terminator = False\n",
        "        if (end >= self.num_test):\n",
        "            terminator = True\n",
        "            self.test_df = shuffle(self.test_df)\n",
        "            start = 0\n",
        "            end = batch_size\n",
        "\n",
        "        self.idx_test = end\n",
        "\n",
        "        test_images = np.zeros((batch_size, self.height, self.width, self.channel))\n",
        "        test_labels = np.zeros((batch_size), dtype=int)\n",
        "        for i in range(start, end):\n",
        "            img_path = self.test_df.iloc[i]['cxr_img']\n",
        "            img_path = os.path.join(images_path, img_path)\n",
        "            test_images[i - start] = cv2.resize(cv2.imread(img_path), (256,256), interpolation = cv2.INTER_AREA)\n",
        "\n",
        "            label = self.test_df.iloc[i]['label']\n",
        "            test_labels[i - start] = 0\n",
        "            if(label in self.ab_normal_labels):\n",
        "                #abnormal is 1\n",
        "                test_labels[i - start] = 1\n",
        "\n",
        "\n",
        "        test_images = np.ndarray.astype(test_images, np.float32)\n",
        "\n",
        "        if(self.normalize):\n",
        "            min_x, max_x = test_images.min(), test_images.max()\n",
        "            test_images = (test_images - min_x) / (max_x - min_x)\n",
        "\n",
        "        test_images_torch = torch.from_numpy(np.transpose(test_images, (0, 3, 1, 2)))\n",
        "        test_labels_torch = torch.from_numpy(test_labels)\n",
        "\n",
        "        return test_images, test_images_torch, test_labels, test_labels_torch, terminator"
      ],
      "execution_count": 6,
      "outputs": []
    },
    {
      "cell_type": "markdown",
      "metadata": {
        "id": "0-eq5eyy5kA3",
        "colab_type": "text"
      },
      "source": [
        "## Neural Networks"
      ]
    },
    {
      "cell_type": "markdown",
      "metadata": {
        "id": "Y-d_7RURNP-e",
        "colab_type": "text"
      },
      "source": [
        "### The Generator"
      ]
    },
    {
      "cell_type": "code",
      "metadata": {
        "id": "saB47SEgB0UG",
        "colab_type": "code",
        "colab": {}
      },
      "source": [
        "import torch\n",
        "from torch import nn\n",
        "\n",
        "class Flatten(nn.Module):\n",
        "    def forward(self, input):\n",
        "        return input.reshape(input.size(0), -1)\n",
        "  \n",
        "class Generator(nn.Module):\n",
        "    def __init__(self, k_size=4):\n",
        "        super(Generator, self).__init__()\n",
        "        self.k_size = k_size\n",
        "        # enc\n",
        "        self.enc_bn1 = nn.BatchNorm2d(3)\n",
        "        self.conv1 = nn.Conv2d(in_channels=3, out_channels=64, kernel_size=self.k_size, stride=2, padding=2)\n",
        "\n",
        "        self.enc_bn2 = nn.BatchNorm2d(64)\n",
        "        self.conv2 = nn.Conv2d(in_channels=64, out_channels=128, kernel_size=self.k_size, stride=2, padding=2)\n",
        "\n",
        "        self.enc_bn3 = nn.BatchNorm2d(128)\n",
        "        self.conv3 = nn.Conv2d(in_channels=128, out_channels=256, kernel_size=self.k_size, stride=2, padding=2)\n",
        "\n",
        "        self.enc_bn4 = nn.BatchNorm2d(256)\n",
        "        self.conv4 = nn.Conv2d(in_channels=256, out_channels=512, kernel_size=self.k_size, stride=2, padding=2)\n",
        "\n",
        "\n",
        "        self.flat = Flatten()\n",
        "        self.en_linear1 = nn.Linear(17*17*512, 1024)\n",
        "        self.en_linear2 = nn.Linear(1024, 128)\n",
        "\n",
        "\n",
        "        #decode        \n",
        "        self.dec_linear1 = nn.Linear(128, 1024)\n",
        "        self.dec_linear2 = nn.Linear(1024,17*17*512)\n",
        "\n",
        "        self.dec_bn1 = nn.BatchNorm2d(512)\n",
        "        self.convT1 = nn.ConvTranspose2d(in_channels=512, out_channels=256, kernel_size=self.k_size, stride=2, padding=2, output_padding=1)\n",
        "\n",
        "        self.dec_bn2 = nn.BatchNorm2d(256)\n",
        "        self.convT2 = nn.ConvTranspose2d(in_channels=256, out_channels=128, kernel_size=self.k_size, stride=2, padding=2, output_padding=1)\n",
        "\n",
        "        self.dec_bn3 = nn.BatchNorm2d(128)\n",
        "        self.convT3 = nn.ConvTranspose2d(in_channels=128, out_channels=64, kernel_size=self.k_size, stride=2, padding=2, output_padding=1)\n",
        "\n",
        "        self.dec_bn4 = nn.BatchNorm2d(64)\n",
        "        self.convT4 = nn.ConvTranspose2d(in_channels=64, out_channels=3, kernel_size=self.k_size, stride=2, padding=2)\n",
        "\n",
        "\n",
        "\n",
        "        self.leaky_relu = nn.LeakyReLU(0.2)\n",
        "        self.maxpool = nn.MaxPool2d(2)\n",
        "\n",
        "\n",
        "        self.upsample = nn.Upsample(scale_factor=2, mode='bilinear', align_corners=True)\n",
        "\n",
        "\n",
        "\n",
        "\n",
        "    def encode(self, x):\n",
        "\n",
        "      x = self.enc_bn1(x)\n",
        "      x = self.conv1(x)\n",
        "      x = self.leaky_relu(x)\n",
        "\n",
        "      x = self.enc_bn2(x)\n",
        "      x = self.conv2(x)\n",
        "      x = self.leaky_relu(x)\n",
        "\n",
        "      x = self.enc_bn3(x)\n",
        "      x = self.conv3(x)\n",
        "      x = self.leaky_relu(x)\n",
        "      \n",
        "      x = self.enc_bn4(x)\n",
        "      x = self.conv4(x)\n",
        "      x = self.leaky_relu(x)\n",
        "\n",
        "\n",
        "      x = self.flat(x)\n",
        "      x = self.en_linear1(x)\n",
        "      x = self.leaky_relu(x)\n",
        "      x = self.en_linear2(x)\n",
        "\n",
        "      return(x)\n",
        "\n",
        "    def decode(self, x):\n",
        "      x = self.dec_linear1(x)\n",
        "      x = self.leaky_relu(x)\n",
        "      x = self.dec_linear2(x)\n",
        "\n",
        "      x = x.reshape(x.size(0), 512, 17, 17)  \n",
        "\n",
        "      x = self.dec_bn1(x)\n",
        "      x = self.convT1(x)\n",
        "      x = self.leaky_relu(x)\n",
        "\n",
        "      x = self.dec_bn2(x)\n",
        "      x = self.convT2(x)\n",
        "      x = self.leaky_relu(x)\n",
        "\n",
        "      x = self.dec_bn3(x)\n",
        "      x = self.convT3(x)\n",
        "      x = self.leaky_relu(x)\n",
        "\n",
        "      x = self.dec_bn4(x)\n",
        "      x = self.convT4(x)\n",
        "      x = self.leaky_relu(x)\n",
        "\n",
        "      return x\n",
        "\n",
        "\n",
        "\n",
        "    def forward(self, x):\n",
        "        x = self.encode(x)\n",
        "        x = self.decode(x)\n",
        "\n",
        "        return x"
      ],
      "execution_count": 7,
      "outputs": []
    },
    {
      "cell_type": "markdown",
      "metadata": {
        "id": "-9O57q8ZNTCI",
        "colab_type": "text"
      },
      "source": [
        "### The Discriminator"
      ]
    },
    {
      "cell_type": "code",
      "metadata": {
        "id": "GrNk2HyRB0UL",
        "colab_type": "code",
        "colab": {}
      },
      "source": [
        "class Discriminator(nn.Module):\n",
        "    def __init__(self):\n",
        "        super(Discriminator, self).__init__()\n",
        "        self.conv1 = nn.Conv2d(3*2,  64, 4, stride=2, padding=2)\n",
        "        self.conv2 = nn.Conv2d( 64, 128, 4, stride=2, padding=2)\n",
        "        self.conv3 = nn.Conv2d(128, 256, 4, stride=2, padding=2)\n",
        "        self.conv4 = nn.Conv2d(256, 512, 4, stride=2, padding=2)        \n",
        "        self.conv_bn1 = nn.BatchNorm2d(64)\n",
        "        self.conv_bn2 = nn.BatchNorm2d(128)\n",
        "        self.conv_bn3 = nn.BatchNorm2d(256)        \n",
        "        self.conv_bn4 = nn.BatchNorm2d(512) \n",
        "        self.fc = nn.Linear(512*17*17, 1)\n",
        "        self.conv_act = nn.LeakyReLU(0.2)\n",
        "        self.op_act = nn.Sigmoid()\n",
        "        \n",
        "    def forward(self, x):\n",
        "        # enc\n",
        "        x = self.conv_bn1(self.conv_act(self.conv1(x)))  \n",
        "        x = self.conv_bn2(self.conv_act(self.conv2(x)))    \n",
        "        x = self.conv_bn3(self.conv_act(self.conv3(x)))  \n",
        "        x = self.conv_bn4(self.conv_act(self.conv4(x)))  \n",
        "        x = self.fc(x.reshape(x.shape[0], -1))             \n",
        "        return self.op_act(x)\n",
        "    "
      ],
      "execution_count": 8,
      "outputs": []
    },
    {
      "cell_type": "markdown",
      "metadata": {
        "id": "pnN89-meB0UF",
        "colab_type": "text"
      },
      "source": [
        "## Forward-Pass, Objective Function Computations"
      ]
    },
    {
      "cell_type": "markdown",
      "metadata": {
        "id": "8t61mZi9NmUc",
        "colab_type": "text"
      },
      "source": [
        "This forward-pass, objective function implements what has been proposed in the pix2pix paper."
      ]
    },
    {
      "cell_type": "code",
      "metadata": {
        "id": "yg4H3pWmB0UP",
        "colab_type": "code",
        "colab": {}
      },
      "source": [
        "def forward_n_get_loss(img, G, D, c=100):\n",
        "    img_hat = G(img) \n",
        "    orig_pair = torch.cat([img, img], 1)\n",
        "    hat_pair = torch.cat([img_hat, img], 1)\n",
        "    prob_orig, prob_hat = D(orig_pair), D(hat_pair).detach()\n",
        "    prob_hat_G = prob_hat.clone()\n",
        "\n",
        "    # loss_D\n",
        "    loss_D_orig = nn.BCELoss()(prob_orig, torch.ones_like(prob_orig))\n",
        "    loss_D_hat = nn.BCELoss()(prob_hat, torch.zeros_like(prob_hat))\n",
        "    loss_D = (loss_D_orig + loss_D_hat) *0.5\n",
        "    # loss_G\n",
        "    loss_G_hat = nn.BCELoss()(prob_hat, torch.ones_like(prob_hat_G))\n",
        "    loss_G_L1 = nn.L1Loss()(img_hat, img)\n",
        "    loss_G = loss_G_hat + c*loss_G_L1\n",
        "    return loss_D, loss_G, loss_D_orig, loss_D_hat, loss_G_hat, loss_G_L1\n"
      ],
      "execution_count": 9,
      "outputs": []
    },
    {
      "cell_type": "markdown",
      "metadata": {
        "id": "Qrb-BH0BOAER",
        "colab_type": "text"
      },
      "source": [
        "## Utilities "
      ]
    },
    {
      "cell_type": "markdown",
      "metadata": {
        "id": "bic1PRYJOC8-",
        "colab_type": "text"
      },
      "source": [
        "The following block implements a series of functions that help us with the training, testing, and logging process. "
      ]
    },
    {
      "cell_type": "code",
      "metadata": {
        "id": "z-8dksKhBQLj",
        "colab_type": "code",
        "colab": {}
      },
      "source": [
        "'''\n",
        "def gray2rgb(gray):\n",
        "\n",
        "    rgb = np.ones((gray.shape[0], gray.shape[1], 3)).astype(np.float32)\n",
        "    rgb[:, :, 0] = gray[:, :, 0]\n",
        "    rgb[:, :, 1] = gray[:, :, 0]\n",
        "    rgb[:, :, 2] = gray[:, :, 0]\n",
        "\n",
        "    return rgb\n",
        "'''\n",
        "\n",
        "def dat2canvas(data):\n",
        "\n",
        "    numd = math.ceil(np.sqrt(data.shape[0]))\n",
        "    [dn, dh, dw, dc] = data.shape\n",
        "    canvas = np.ones((dh*numd, dw*numd, dc)).astype(np.float32)\n",
        "\n",
        "    for y in range(numd):\n",
        "        for x in range(numd):\n",
        "            try: tmp = data[x+(y*numd)]\n",
        "            except: pass\n",
        "            else: canvas[(y*dh):(y*dh)+256, (x*dw):(x*dw)+256, :] = tmp\n",
        "    #if(dc == 1):\n",
        "     #   canvas = gray2rgb(gray=canvas)\n",
        "\n",
        "    return canvas\n",
        "\n",
        "def save_img(contents, names=[\"\", \"\", \"\"], savename=\"\"):\n",
        "\n",
        "    num_cont = len(contents)\n",
        "    plt.figure(figsize=(5*num_cont+2, 5))\n",
        "\n",
        "    for i in range(num_cont):\n",
        "        plt.subplot(1,num_cont,i+1)\n",
        "        plt.title(names[i])\n",
        "        plt.imshow(dat2canvas(data=contents[i]))\n",
        "\n",
        "    plt.tight_layout()\n",
        "    plt.savefig(savename)\n",
        "    plt.close()\n",
        "\n",
        "def discrete_cmap(N, base_cmap=None):\n",
        "\n",
        "    base = plt.cm.get_cmap(base_cmap)\n",
        "    color_list = base(np.linspace(0, 1, N))\n",
        "    cmap_name = base.name + str(N)\n",
        "\n",
        "    return base.from_list(cmap_name, color_list, N)\n",
        "\n",
        "# Saves a latent plot, used both for t-sne plotting and PCA plots\n",
        "def latent_plot(latent, y, n, title, savename=\"\"):\n",
        "\n",
        "    plt.figure(figsize=(6, 5))\n",
        "    plt.scatter(latent[:, 0], latent[:, 1], c=y, \\\n",
        "        marker='o', edgecolor='none', cmap=discrete_cmap(n, 'jet'))\n",
        "    plt.colorbar(ticks=range(n))\n",
        "    plt.grid()\n",
        "    plt.tight_layout()\n",
        "    plt.title(title)\n",
        "    plt.savefig(savename)\n",
        "    plt.close()\n",
        "\n",
        "def save_graph(contents, xlabel, ylabel, savename):\n",
        "\n",
        "    np.save(savename, np.asarray(contents))\n",
        "    plt.clf()\n",
        "    plt.rcParams['font.size'] = 15\n",
        "    plt.plot(contents, color='blue', linestyle=\"-\", label=\"loss\")\n",
        "    plt.xlabel(xlabel)\n",
        "    plt.ylabel(ylabel)\n",
        "    plt.tight_layout(pad=1, w_pad=1, h_pad=1)\n",
        "    plt.savefig(\"%s.png\" %(savename))\n",
        "    plt.close()\n",
        "\n",
        "def tens2nparr(input):\n",
        "\n",
        "    input = input.cpu()\n",
        "    output = input.detach().numpy()\n",
        "    return output\n",
        "\n",
        "# Computes Mean Squared Loss between two sets of images. This meassure is used for anomaly detection\n",
        "def restore_loss_functions(x, x_hat):\n",
        "\n",
        "    x, x_hat = x.cpu(), x_hat.cpu()\n",
        "    criterion = torch.nn.MSELoss()\n",
        "    restore_loss = criterion(x_hat, x)\n",
        "    return restore_loss\n",
        "\n",
        "def get_device():\n",
        "  device = torch.device(\"cuda\" if (torch.cuda.is_available()) else \"cpu\")\n",
        "\n",
        "# Trains the models, save a recounstruction plot at the beginning of each epoch\n",
        "# It is also capable of loading previously saved model parameters. \n",
        "# see *param_save_path* in the first code block\n",
        "def training(G, D, dataset, epochs, batch_size, load=False, snapshot=True):\n",
        "\n",
        "    # if a model is loaded, this number reflects the epochs of the previous training\n",
        "    epoch_offset = 0\n",
        "    if(load):\n",
        "      pre_trained_models = os.listdir(param_save_path)\n",
        "\n",
        "      param_G = os.path.join(param_save_path, pre_trained_models[-2])\n",
        "      param_D = os.path.join(param_save_path, pre_trained_models[-1])\n",
        "      print('=======')\n",
        "      print(param_D)\n",
        "      print(param_G)\n",
        "      print('=======')\n",
        "\n",
        "      G.load_state_dict(torch.load(param_G))\n",
        "      D.load_state_dict(torch.load(param_D))\n",
        "      print(\"model loaded succesffully\")\n",
        "\n",
        "      epoch_offset = int(re.findall(r'\\d+', pre_trained_models[-1])[0])\n",
        "\n",
        "      print(\"---> Model was previously trained on {}-epochs\".format(epoch_offset))\n",
        "\n",
        "\n",
        "    print(\"\\n<Training to new %d epochs (%d of minibatch size)>\" %(epochs, batch_size))\n",
        "\n",
        "    device = get_device()\n",
        "\n",
        "\n",
        "    start_time = time.time()\n",
        "\n",
        "    iteration = 0\n",
        "\n",
        "    test_sq = 10\n",
        "    test_size = test_sq**2\n",
        "    list_recon = []\n",
        "    restore_error = 0\n",
        "\n",
        "    loss2npval = lambda loss : np.mean(loss.cpu().data.numpy()).round(4)\n",
        "    loss_names = [\"loss_D\", \"loss_G\", \"loss_D_real\", \"loss_D_fake\",  \\\n",
        "                  \"loss_G_fake\", \"loss_G_L1\"]\n",
        "    update_DnG_together = True\n",
        "    G.train()\n",
        "    D.train()\n",
        "\n",
        "    for epoch in range(epoch_offset, epoch_offset + epochs):\n",
        "\n",
        "\n",
        "        x_tr, x_tr_torch, y_tr, y_tr_torch, _ = dataset.next_train(batch_size=test_size) # Initial batch\n",
        "\n",
        "\n",
        "        x_restore = G(x_tr_torch.cuda())\n",
        "\n",
        "        x_restore = np.transpose(tens2nparr(x_restore), (0, 2, 3, 1))\n",
        "\n",
        "\n",
        "        save_img(contents=[x_tr, x_restore, (x_tr-x_restore)**2], \\\n",
        "            names=[\"Input\\n(x)\", \"Restoration\\n(x to x-hat)\", \"Difference\"], \\\n",
        "            savename=os.path.join(results_path, \"tr_restoring\", \"%d.png\" %(epoch)))\n",
        "\n",
        "\n",
        "\n",
        "        while(True):\n",
        "            if(iteration % 10 == 0):\n",
        "                print(\"->Epoch {}, Training Index {}, Latest RestoreError {}\".format(epoch, dataset.idx_train, restore_error))\n",
        "\n",
        "            x_tr, x_tr_torch, y_tr, y_tr_torch, terminator = dataset.next_train(batch_size)\n",
        "\n",
        "            x_tr_torch = x_tr_torch.cuda()\n",
        "\n",
        "            # forward and get loss\n",
        "            c = 100\n",
        "            losses = forward_n_get_loss(x_tr_torch, G, D, c=c )\n",
        "\n",
        "            update_D, update_G = (True, True) if update_DnG_together  \\\n",
        "            else ((epo+batch_No)%2!=0, (epo+batch_No)%2==0  )\n",
        "            \n",
        "            # update D\n",
        "            if update_D:\n",
        "                optimizer_D.zero_grad()\n",
        "                losses[0].backward(retain_graph=True)\n",
        "                optimizer_D.step()\n",
        "                \n",
        "            # update G\n",
        "            if update_G:\n",
        "                optimizer_G.zero_grad()\n",
        "                losses[1].backward()\n",
        "                optimizer_G.step()\n",
        "\n",
        "\n",
        "            \n",
        "\n",
        "            x_hat = G(x_tr_torch.to(device))\n",
        "\n",
        "            restore_error = restore_loss_functions(x=x_tr_torch, x_hat=x_hat)\n",
        "            list_recon.append(restore_error.item())\n",
        "\n",
        "            x_hat = np.transpose(tens2nparr(x_hat), (0, 2, 3, 1))\n",
        "\n",
        "\n",
        "            iteration += 1\n",
        "            if(terminator): break\n",
        "                \n",
        "        loss_vals = map(loss2npval, losses)\n",
        "        loss_info = dict(zip(loss_names,loss_vals))\n",
        "        print(\"[{}] {}, time_cost:\" \\\n",
        "              .format( epoch, loss_info))\n",
        "        \n",
        "        if(epoch % 5 == 0):\n",
        "          torch.save(G.state_dict(), param_save_path+\"/params-epoch%d-G\" %(epoch))\n",
        "          torch.save(D.state_dict(), param_save_path+\"/params-epoch%d-D\" %(epoch))\n",
        "\n",
        "          if(snapshot):\n",
        "            dataset.reset_idx()\n",
        "            snapshot_onTest(G, D, dataset, epoch)\n",
        "            torch.cuda.empty_cache()\n",
        "\n",
        "\n",
        "    elapsed_time = time.time() - start_time\n",
        "    print(\"Elapsed: \"+str(elapsed_time))\n",
        "\n",
        "# This function tests the models on the train set of the dataset and logs a bunch of plots and analytics\n",
        "def snapshot_onTest(G, D, dataset, epoch):\n",
        "\n",
        "    G_scores_normal, G_scores_abnormal = [], []\n",
        "    D_scores_normal, D_scores_abnormal = [],[]\n",
        "    latent_vectors, labels = [], []\n",
        "    G_scores = []\n",
        "    D_scores = []\n",
        "\n",
        "\n",
        "    snap_fcsv = open(snapshots_save_path+\"/01-OnTest-epoch{}-snapshot.csv\".format(epoch), \"w\")\n",
        "\n",
        "    snap_fcsv.write(\"class,G_score,D_score\\n\")\n",
        "\n",
        "\n",
        "    print(\"Test SnapShot:\")\n",
        "    while(True):\n",
        "        x, x_torch, y, y_torch, terminator = dataset.next_test(1) # y_te does not used in this prj.\n",
        "\n",
        "        x_hat = G(x_torch.cuda())\n",
        "        x_enc = tens2nparr(G.encode(x_torch.cuda()))[0]\n",
        "        G_recons_error = restore_loss_functions(x=x_torch, x_hat=x_hat)\n",
        "        x_G_score = G_recons_error.item()\n",
        "\n",
        "        pair = torch.cat([x_torch.cuda(), x_hat], 1)\n",
        "        x_D_score = D(pair.cuda()).item()\n",
        "\n",
        "\n",
        "        labels.append(y[0])\n",
        "        latent_vectors.append(x_enc)\n",
        "        G_scores.append(x_G_score)\n",
        "        D_scores.append(x_D_score)\n",
        "\n",
        "        if (y[0] == 0): \n",
        "          G_scores_normal.append(x_G_score)\n",
        "          D_scores_normal.append(x_D_score)\n",
        "        else:\n",
        "          G_scores_abnormal.append(x_G_score)\n",
        "          D_scores_abnormal.append(x_D_score)\n",
        "\n",
        "        snap_fcsv.write(\"%d,%.7f,%.7f\\n\" %(y, x_G_score, x_D_score))\n",
        "\n",
        "        if(terminator): break\n",
        "\n",
        "\n",
        "    # Saving the latent plots\n",
        "    pca = PCA(n_components=2)\n",
        "    tsne = TSNE(n_components=2)\n",
        "\n",
        "    latent_vectors, labels = np.array(latent_vectors), np.array(labels)\n",
        "\n",
        "    pca_features = pca.fit_transform(latent_vectors)\n",
        "    tsne_features = tsne.fit_transform(latent_vectors)\n",
        "\n",
        "    latent_plot(latent=pca_features, y=labels, n=dataset.num_class, title='PCA Plot-epoch%d' %(epoch),\\\n",
        "            savename=os.path.join(results_path, 'pca_latent_ontest', '%d.png' %(epoch)))\n",
        "\n",
        "    latent_plot(latent=tsne_features, y=labels, n=dataset.num_class, title='t-SNE Plot-epoch%d' %(epoch),\\\n",
        "        savename=os.path.join(results_path, 'tsne_latent_ontest', '%d.png' %(epoch)))\n",
        "    \n",
        "\n",
        "    \n",
        "    G_fpr, G_tpr, G_thresholds = metrics.roc_curve(labels, G_scores, pos_label=1)\n",
        "    G_AUC = metrics.auc(G_fpr, G_tpr)\n",
        "\n",
        "\n",
        "    D_fpr, D_tpr, D_thresholds = metrics.roc_curve(labels, D_scores, pos_label=1)\n",
        "    D_AUC = metrics.auc(D_fpr, D_tpr)\n",
        "\n",
        "    D_ins_fpr, D_ins_tpr, D_ins_thresholds = metrics.roc_curve(labels, [1 - dscore for dscore in D_scores], pos_label=1)\n",
        "    D_ins_AUC = metrics.auc(D_fpr, D_tpr)\n",
        " \n",
        "\n",
        "    G_scores_normal = np.asarray(G_scores_normal)\n",
        "    G_scores_abnormal = np.asarray(G_scores_abnormal)\n",
        "\n",
        "    D_scores_normal = np.asarray(D_scores_normal)\n",
        "    D_scores_abnormal = np.asarray(D_scores_abnormal)\n",
        "\n",
        "    G_normal_avg, G_normal_std = np.average(G_scores_normal), np.std(G_scores_normal)\n",
        "    G_abnormal_avg, G_abnormal_std = np.average(G_scores_abnormal), np.std(G_scores_abnormal)\n",
        "\n",
        "\n",
        "    D_normal_avg, D_normal_std = np.average(D_scores_normal), np.std(D_scores_normal)\n",
        "    D_abnormal_avg, D_abnormal_std = np.average(D_scores_abnormal), np.std(D_scores_abnormal)\n",
        "\n",
        "\n",
        "    print(\"EPOCH: {}\".format(epoch))\n",
        "\n",
        "    print(\" Generator Stats: \")\n",
        "    print(\"   G-Noraml  avg: %.5f, std: %.5f\" %(G_normal_avg, G_normal_std))\n",
        "    print(\"   G-Abnoraml  avg: %.5f, std: %.5f\" %(G_abnormal_avg, G_abnormal_std))\n",
        "    print('   G-AUC for epoch{}: {:.5f}'.format(epoch, G_AUC))\n",
        "\n",
        "\n",
        "    print(\" Discriminator Stats: \")\n",
        "    print(\"   D-Noraml  avg: %.5f, std: %.5f\" %(D_normal_avg, D_normal_std))\n",
        "    print(\"   D-Abnoraml  avg: %.5f, std: %.5f\" %(D_abnormal_avg, D_abnormal_std))\n",
        "    print(\"   D-AUC for epoch{}: {:.5f}\".format(epoch, D_AUC))\n",
        "\n",
        "    print(\"   D-inverse-AUC for epoch{}: {:.5f}\".format(epoch, D_ins_AUC))\n",
        "\n",
        "    with open(OnTestsnapshots_summary_path, \"a\") as fcsv:\n",
        "      fcsv.write(\"%d,%.6f,%.6f,%.6f,%.6f,%.6f,%.6f,%.6f,%.6f,%.6f,%.6f\\n\" \\\n",
        "                 %(epoch, G_normal_avg, G_abnormal_avg, D_normal_avg, D_abnormal_avg, G_normal_std, G_abnormal_std, D_normal_std, D_abnormal_std, G_AUC, D_AUC))\n",
        "      \n",
        "\n"
      ],
      "execution_count": 10,
      "outputs": []
    },
    {
      "cell_type": "markdown",
      "metadata": {
        "id": "W2mLdbHqjbyu",
        "colab_type": "text"
      },
      "source": [
        "## Experiment"
      ]
    },
    {
      "cell_type": "markdown",
      "metadata": {
        "id": "sZTgTRv2jfZp",
        "colab_type": "text"
      },
      "source": [
        "### Create instances of our neural networks"
      ]
    },
    {
      "cell_type": "code",
      "metadata": {
        "id": "if1knsIHB0UT",
        "colab_type": "code",
        "colab": {
          "base_uri": "https://localhost:8080/",
          "height": 34
        },
        "outputId": "36b61f64-13df-4f11-f39a-d4319a772eaa"
      },
      "source": [
        "# build model \n",
        "use_cuda = torch.cuda.is_available()\n",
        "print('use_cuda:', use_cuda)\n",
        "if use_cuda:\n",
        "    G = Generator().cuda()\n",
        "    D = Discriminator().cuda()\n",
        "else:\n",
        "    G = Generator()\n",
        "    D = Discriminator()  "
      ],
      "execution_count": 11,
      "outputs": [
        {
          "output_type": "stream",
          "text": [
            "use_cuda: True\n"
          ],
          "name": "stdout"
        }
      ]
    },
    {
      "cell_type": "markdown",
      "metadata": {
        "id": "RVDsycRnjj3j",
        "colab_type": "text"
      },
      "source": [
        "### Initialize the weights and bias terms by random distributoions"
      ]
    },
    {
      "cell_type": "code",
      "metadata": {
        "id": "vYzC2lBbB0UZ",
        "colab_type": "code",
        "colab": {
          "base_uri": "https://localhost:8080/",
          "height": 51
        },
        "outputId": "89922868-5a15-43ae-bb2b-3fecfc7b8b94"
      },
      "source": [
        "# initialize weights\n",
        "def init_weights(m):\n",
        "    if type(m) == nn.Conv2d or type(m) == nn.ConvTranspose2d:\n",
        "        m.weight.data.normal_(0, 0.02)\n",
        "        m.bias.data.normal_(0, 0.02)\n",
        "G.apply(init_weights)\n",
        "D.apply(init_weights)\n",
        "print(G.conv1.weight.data.mean().mean())# close to 0.00\n",
        "print(G.conv1.weight.data.std().mean())# close to 0.02"
      ],
      "execution_count": 12,
      "outputs": [
        {
          "output_type": "stream",
          "text": [
            "tensor(-7.0590e-05, device='cuda:0')\n",
            "tensor(0.0203, device='cuda:0')\n"
          ],
          "name": "stdout"
        }
      ]
    },
    {
      "cell_type": "markdown",
      "metadata": {
        "id": "DF79JigYjs_O",
        "colab_type": "text"
      },
      "source": [
        "### Wanna know the number of parameters?"
      ]
    },
    {
      "cell_type": "code",
      "metadata": {
        "id": "RkFQ68gyATyZ",
        "colab_type": "code",
        "colab": {
          "base_uri": "https://localhost:8080/",
          "height": 34
        },
        "outputId": "f0945896-2f3c-47e3-add8-3ea5dce4f817"
      },
      "source": [
        "num_p = 0\n",
        "for idx_m, model in enumerate([G, D]):\n",
        "    for p in model.parameters():\n",
        "        num_p += p.numel()\n",
        "    #print(model)\n",
        "print(\"The number of parameters: %d\" %(num_p))"
      ],
      "execution_count": 13,
      "outputs": [
        {
          "output_type": "stream",
          "text": [
            "The number of parameters: 311875658\n"
          ],
          "name": "stdout"
        }
      ]
    },
    {
      "cell_type": "markdown",
      "metadata": {
        "id": "UUN9T9VojzMM",
        "colab_type": "text"
      },
      "source": [
        "### Optimizers"
      ]
    },
    {
      "cell_type": "code",
      "metadata": {
        "id": "Fffvgc3jB0Ue",
        "colab_type": "code",
        "colab": {}
      },
      "source": [
        "from torch.optim import Adam\n",
        "optimizer_G = Adam(G.parameters(), lr=2e-4, betas=(0.5, 0.999))\n",
        "optimizer_D = Adam(D.parameters(), lr=1e-4, betas=(0.5, 0.999))"
      ],
      "execution_count": 14,
      "outputs": []
    },
    {
      "cell_type": "markdown",
      "metadata": {
        "id": "8AuvUEy6j3A-",
        "colab_type": "text"
      },
      "source": [
        "### Training "
      ]
    },
    {
      "cell_type": "code",
      "metadata": {
        "id": "h3du-MGi-PR8",
        "colab_type": "code",
        "colab": {
          "base_uri": "https://localhost:8080/",
          "height": 258
        },
        "outputId": "d0eea07c-9ba7-43aa-e9cc-31f1bb7a8816"
      },
      "source": [
        "# an instance of the dataset object\n",
        "dataset = Dataset(n_exp=0, n_splits=3)"
      ],
      "execution_count": 15,
      "outputs": [
        {
          "output_type": "stream",
          "text": [
            "\n",
            "Initializing Dataset...\n",
            "Running experiment number 0 out of 2 ----  Train Cases: 1050 / Test Cases: 1045 Out of which 519 are COVID\n",
            "Data Summery\n",
            "Number of Training Cases: 1050\n",
            "Total Number of Test Cases: 1045, Abnormal Cases: 519\n",
            "Shape  Height: 256, Width: 256, Channel: 3\n",
            "Value  Min: 0.000, Max: 254.000\n",
            "Number of classes:  2\n",
            "Normalization: True\n",
            "(from 0.000-254.000 to 0.000-1.000)\n"
          ],
          "name": "stdout"
        },
        {
          "output_type": "stream",
          "text": [
            "/usr/local/lib/python3.6/dist-packages/sklearn/model_selection/_split.py:296: FutureWarning: Setting a random_state has no effect since shuffle is False. This will raise an error in 0.24. You should leave random_state to its default (None), or set shuffle=True.\n",
            "  FutureWarning\n"
          ],
          "name": "stderr"
        }
      ]
    },
    {
      "cell_type": "code",
      "metadata": {
        "id": "saACGUxtFqRj",
        "colab_type": "code",
        "colab": {
          "base_uri": "https://localhost:8080/",
          "height": 1000
        },
        "outputId": "d10acebf-f920-40fb-f2eb-8a106be4dfee"
      },
      "source": [
        "# training\n",
        "training(G, D, dataset, epochs=105, batch_size=30, load=True)"
      ],
      "execution_count": null,
      "outputs": [
        {
          "output_type": "stream",
          "text": [
            "\n",
            "<Training to new 105 epochs (30 of minibatch size)>\n"
          ],
          "name": "stdout"
        },
        {
          "output_type": "stream",
          "text": [
            "Clipping input data to the valid range for imshow with RGB data ([0..1] for floats or [0..255] for integers).\n",
            "Clipping input data to the valid range for imshow with RGB data ([0..1] for floats or [0..255] for integers).\n"
          ],
          "name": "stderr"
        },
        {
          "output_type": "stream",
          "text": [
            "->Epoch 0, Training Index 100, Latest RestoreError 0\n"
          ],
          "name": "stdout"
        },
        {
          "output_type": "stream",
          "text": [
            "/usr/local/lib/python3.6/dist-packages/torch/nn/functional.py:2617: UserWarning: Mixed memory format inputs detected while calling the operator. The operator will output contiguous tensor even if some of the inputs are in channels_last format. (Triggered internally at  /pytorch/aten/src/ATen/native/TensorIterator.cpp:918.)\n",
            "  ret = torch._C._nn.l1_loss(expanded_input, expanded_target, _Reduction.get_enum(reduction))\n"
          ],
          "name": "stderr"
        },
        {
          "output_type": "stream",
          "text": [
            "->Epoch 0, Training Index 400, Latest RestoreError 0.16621609032154083\n",
            "->Epoch 0, Training Index 700, Latest RestoreError 0.10806794464588165\n",
            "->Epoch 0, Training Index 1000, Latest RestoreError 0.10599958896636963\n",
            "[0] {'loss_D': 6.1018, 'loss_G': 22.0033, 'loss_D_real': 0.0, 'loss_D_fake': 12.2036, 'loss_G_fake': 1e-04, 'loss_G_L1': 0.22}, time_cost:\n",
            "Test SnapShot:\n",
            "EPOCH: 0\n",
            " Generator Stats: \n",
            "   G-Noraml  avg: 0.09901, std: 0.02912\n",
            "   G-Abnoraml  avg: 0.11575, std: 0.05014\n",
            "   G-AUC for epoch0: 0.57636\n",
            " Discriminator Stats: \n",
            "   D-Noraml  avg: 0.99990, std: 0.00010\n",
            "   D-Abnoraml  avg: 0.99983, std: 0.00038\n",
            "   D-AUC for epoch0: 0.39180\n",
            "   D-inverse-AUC for epoch0: 0.39180\n"
          ],
          "name": "stdout"
        },
        {
          "output_type": "stream",
          "text": [
            "Clipping input data to the valid range for imshow with RGB data ([0..1] for floats or [0..255] for integers).\n",
            "Clipping input data to the valid range for imshow with RGB data ([0..1] for floats or [0..255] for integers).\n"
          ],
          "name": "stderr"
        },
        {
          "output_type": "stream",
          "text": [
            "->Epoch 1, Training Index 340, Latest RestoreError 0.09079338610172272\n",
            "->Epoch 1, Training Index 640, Latest RestoreError 0.09522073715925217\n",
            "->Epoch 1, Training Index 940, Latest RestoreError 0.08194268494844437\n",
            "[1] {'loss_D': 4.5711, 'loss_G': 18.2556, 'loss_D_real': 1e-04, 'loss_D_fake': 9.142, 'loss_G_fake': 1e-04, 'loss_G_L1': 0.1826}, time_cost:\n"
          ],
          "name": "stdout"
        },
        {
          "output_type": "stream",
          "text": [
            "Clipping input data to the valid range for imshow with RGB data ([0..1] for floats or [0..255] for integers).\n",
            "Clipping input data to the valid range for imshow with RGB data ([0..1] for floats or [0..255] for integers).\n"
          ],
          "name": "stderr"
        },
        {
          "output_type": "stream",
          "text": [
            "->Epoch 2, Training Index 310, Latest RestoreError 0.0850382074713707\n",
            "->Epoch 2, Training Index 610, Latest RestoreError 0.07714325934648514\n",
            "->Epoch 2, Training Index 910, Latest RestoreError 0.08378207683563232\n",
            "[2] {'loss_D': 4.9571, 'loss_G': 15.5176, 'loss_D_real': 0.0, 'loss_D_fake': 9.9141, 'loss_G_fake': 1e-04, 'loss_G_L1': 0.1552}, time_cost:\n"
          ],
          "name": "stdout"
        },
        {
          "output_type": "stream",
          "text": [
            "Clipping input data to the valid range for imshow with RGB data ([0..1] for floats or [0..255] for integers).\n",
            "Clipping input data to the valid range for imshow with RGB data ([0..1] for floats or [0..255] for integers).\n"
          ],
          "name": "stderr"
        },
        {
          "output_type": "stream",
          "text": [
            "->Epoch 3, Training Index 280, Latest RestoreError 0.07660312950611115\n",
            "->Epoch 3, Training Index 580, Latest RestoreError 0.06942828744649887\n",
            "->Epoch 3, Training Index 880, Latest RestoreError 0.07273537665605545\n",
            "[3] {'loss_D': 3.6189, 'loss_G': 15.021, 'loss_D_real': 1e-04, 'loss_D_fake': 7.2377, 'loss_G_fake': 0.0009, 'loss_G_L1': 0.1502}, time_cost:\n"
          ],
          "name": "stdout"
        },
        {
          "output_type": "stream",
          "text": [
            "Clipping input data to the valid range for imshow with RGB data ([0..1] for floats or [0..255] for integers).\n",
            "Clipping input data to the valid range for imshow with RGB data ([0..1] for floats or [0..255] for integers).\n"
          ],
          "name": "stderr"
        },
        {
          "output_type": "stream",
          "text": [
            "->Epoch 4, Training Index 250, Latest RestoreError 0.06693946570158005\n",
            "->Epoch 4, Training Index 550, Latest RestoreError 0.0686919316649437\n",
            "->Epoch 4, Training Index 850, Latest RestoreError 0.06934890151023865\n",
            "[4] {'loss_D': 3.2199, 'loss_G': 12.2933, 'loss_D_real': 1e-04, 'loss_D_fake': 6.4397, 'loss_G_fake': 0.0019, 'loss_G_L1': 0.1229}, time_cost:\n"
          ],
          "name": "stdout"
        },
        {
          "output_type": "stream",
          "text": [
            "Clipping input data to the valid range for imshow with RGB data ([0..1] for floats or [0..255] for integers).\n",
            "Clipping input data to the valid range for imshow with RGB data ([0..1] for floats or [0..255] for integers).\n"
          ],
          "name": "stderr"
        },
        {
          "output_type": "stream",
          "text": [
            "->Epoch 5, Training Index 220, Latest RestoreError 0.06485661119222641\n",
            "->Epoch 5, Training Index 520, Latest RestoreError 0.06866563856601715\n",
            "->Epoch 5, Training Index 820, Latest RestoreError 0.06041032075881958\n",
            "[5] {'loss_D': 2.7264, 'loss_G': 10.8819, 'loss_D_real': 1e-04, 'loss_D_fake': 5.4528, 'loss_G_fake': 0.0053, 'loss_G_L1': 0.1088}, time_cost:\n",
            "Test SnapShot:\n",
            "EPOCH: 5\n",
            " Generator Stats: \n",
            "   G-Noraml  avg: 0.06452, std: 0.01045\n",
            "   G-Abnoraml  avg: 0.07864, std: 0.02612\n",
            "   G-AUC for epoch5: 0.68963\n",
            " Discriminator Stats: \n",
            "   D-Noraml  avg: 0.99577, std: 0.00399\n",
            "   D-Abnoraml  avg: 0.99307, std: 0.00944\n",
            "   D-AUC for epoch5: 0.43983\n",
            "   D-inverse-AUC for epoch5: 0.43983\n"
          ],
          "name": "stdout"
        },
        {
          "output_type": "stream",
          "text": [
            "Clipping input data to the valid range for imshow with RGB data ([0..1] for floats or [0..255] for integers).\n",
            "Clipping input data to the valid range for imshow with RGB data ([0..1] for floats or [0..255] for integers).\n"
          ],
          "name": "stderr"
        },
        {
          "output_type": "stream",
          "text": [
            "->Epoch 6, Training Index 160, Latest RestoreError 0.06114201620221138\n",
            "->Epoch 6, Training Index 460, Latest RestoreError 0.055455248802900314\n",
            "->Epoch 6, Training Index 760, Latest RestoreError 0.05160262808203697\n",
            "[6] {'loss_D': 3.0678, 'loss_G': 9.4809, 'loss_D_real': 0.0, 'loss_D_fake': 6.1355, 'loss_G_fake': 0.0029, 'loss_G_L1': 0.0948}, time_cost:\n"
          ],
          "name": "stdout"
        },
        {
          "output_type": "stream",
          "text": [
            "Clipping input data to the valid range for imshow with RGB data ([0..1] for floats or [0..255] for integers).\n",
            "Clipping input data to the valid range for imshow with RGB data ([0..1] for floats or [0..255] for integers).\n"
          ],
          "name": "stderr"
        },
        {
          "output_type": "stream",
          "text": [
            "->Epoch 7, Training Index 130, Latest RestoreError 0.048966068774461746\n",
            "->Epoch 7, Training Index 430, Latest RestoreError 0.04432758316397667\n",
            "->Epoch 7, Training Index 730, Latest RestoreError 0.04463807865977287\n",
            "->Epoch 7, Training Index 1030, Latest RestoreError 0.03904139995574951\n",
            "[7] {'loss_D': 3.0854, 'loss_G': 9.5127, 'loss_D_real': 1e-04, 'loss_D_fake': 6.1708, 'loss_G_fake': 0.0028, 'loss_G_L1': 0.0951}, time_cost:\n"
          ],
          "name": "stdout"
        },
        {
          "output_type": "stream",
          "text": [
            "Clipping input data to the valid range for imshow with RGB data ([0..1] for floats or [0..255] for integers).\n",
            "Clipping input data to the valid range for imshow with RGB data ([0..1] for floats or [0..255] for integers).\n"
          ],
          "name": "stderr"
        },
        {
          "output_type": "stream",
          "text": [
            "->Epoch 8, Training Index 400, Latest RestoreError 0.03774764761328697\n",
            "->Epoch 8, Training Index 700, Latest RestoreError 0.032548386603593826\n",
            "->Epoch 8, Training Index 1000, Latest RestoreError 0.033363696187734604\n",
            "[8] {'loss_D': 3.9504, 'loss_G': 8.1266, 'loss_D_real': 0.0, 'loss_D_fake': 7.9007, 'loss_G_fake': 0.0005, 'loss_G_L1': 0.0813}, time_cost:\n"
          ],
          "name": "stdout"
        },
        {
          "output_type": "stream",
          "text": [
            "Clipping input data to the valid range for imshow with RGB data ([0..1] for floats or [0..255] for integers).\n",
            "Clipping input data to the valid range for imshow with RGB data ([0..1] for floats or [0..255] for integers).\n"
          ],
          "name": "stderr"
        },
        {
          "output_type": "stream",
          "text": [
            "->Epoch 9, Training Index 370, Latest RestoreError 0.027467207983136177\n",
            "->Epoch 9, Training Index 670, Latest RestoreError 0.024600781500339508\n",
            "->Epoch 9, Training Index 970, Latest RestoreError 0.021534886211156845\n",
            "[9] {'loss_D': 4.1768, 'loss_G': 7.3164, 'loss_D_real': 0.0, 'loss_D_fake': 8.3536, 'loss_G_fake': 0.0003, 'loss_G_L1': 0.0732}, time_cost:\n"
          ],
          "name": "stdout"
        },
        {
          "output_type": "stream",
          "text": [
            "Clipping input data to the valid range for imshow with RGB data ([0..1] for floats or [0..255] for integers).\n",
            "Clipping input data to the valid range for imshow with RGB data ([0..1] for floats or [0..255] for integers).\n"
          ],
          "name": "stderr"
        },
        {
          "output_type": "stream",
          "text": [
            "->Epoch 10, Training Index 340, Latest RestoreError 0.020482931286096573\n",
            "->Epoch 10, Training Index 640, Latest RestoreError 0.016865406185388565\n",
            "->Epoch 10, Training Index 940, Latest RestoreError 0.015496442094445229\n",
            "[10] {'loss_D': 4.2195, 'loss_G': 6.6175, 'loss_D_real': 0.0, 'loss_D_fake': 8.439, 'loss_G_fake': 0.0005, 'loss_G_L1': 0.0662}, time_cost:\n",
            "Test SnapShot:\n",
            "EPOCH: 10\n",
            " Generator Stats: \n",
            "   G-Noraml  avg: 0.01844, std: 0.00690\n",
            "   G-Abnoraml  avg: 0.02826, std: 0.01751\n",
            "   G-AUC for epoch10: 0.71801\n",
            " Discriminator Stats: \n",
            "   D-Noraml  avg: 0.99962, std: 0.00093\n",
            "   D-Abnoraml  avg: 0.99849, std: 0.00880\n",
            "   D-AUC for epoch10: 0.37274\n",
            "   D-inverse-AUC for epoch10: 0.37274\n"
          ],
          "name": "stdout"
        },
        {
          "output_type": "stream",
          "text": [
            "Clipping input data to the valid range for imshow with RGB data ([0..1] for floats or [0..255] for integers).\n",
            "Clipping input data to the valid range for imshow with RGB data ([0..1] for floats or [0..255] for integers).\n"
          ],
          "name": "stderr"
        },
        {
          "output_type": "stream",
          "text": [
            "->Epoch 11, Training Index 280, Latest RestoreError 0.013531327247619629\n",
            "->Epoch 11, Training Index 580, Latest RestoreError 0.010477353818714619\n",
            "->Epoch 11, Training Index 880, Latest RestoreError 0.00901318620890379\n",
            "[11] {'loss_D': 3.5762, 'loss_G': 6.4694, 'loss_D_real': 1e-04, 'loss_D_fake': 7.1522, 'loss_G_fake': 0.001, 'loss_G_L1': 0.0647}, time_cost:\n"
          ],
          "name": "stdout"
        },
        {
          "output_type": "stream",
          "text": [
            "Clipping input data to the valid range for imshow with RGB data ([0..1] for floats or [0..255] for integers).\n",
            "Clipping input data to the valid range for imshow with RGB data ([0..1] for floats or [0..255] for integers).\n"
          ],
          "name": "stderr"
        },
        {
          "output_type": "stream",
          "text": [
            "->Epoch 12, Training Index 250, Latest RestoreError 0.008678057231009007\n",
            "->Epoch 12, Training Index 550, Latest RestoreError 0.007703263312578201\n",
            "->Epoch 12, Training Index 850, Latest RestoreError 0.006494504399597645\n",
            "[12] {'loss_D': 6.5872, 'loss_G': 5.6388, 'loss_D_real': 0.0, 'loss_D_fake': 13.1744, 'loss_G_fake': 0.0, 'loss_G_L1': 0.0564}, time_cost:\n"
          ],
          "name": "stdout"
        },
        {
          "output_type": "stream",
          "text": [
            "Clipping input data to the valid range for imshow with RGB data ([0..1] for floats or [0..255] for integers).\n",
            "Clipping input data to the valid range for imshow with RGB data ([0..1] for floats or [0..255] for integers).\n"
          ],
          "name": "stderr"
        },
        {
          "output_type": "stream",
          "text": [
            "->Epoch 13, Training Index 220, Latest RestoreError 0.005567314103245735\n",
            "->Epoch 13, Training Index 520, Latest RestoreError 0.006476091220974922\n",
            "->Epoch 13, Training Index 820, Latest RestoreError 0.00574456388130784\n",
            "[13] {'loss_D': 4.9931, 'loss_G': 5.6075, 'loss_D_real': 0.0, 'loss_D_fake': 9.9861, 'loss_G_fake': 1e-04, 'loss_G_L1': 0.0561}, time_cost:\n"
          ],
          "name": "stdout"
        },
        {
          "output_type": "stream",
          "text": [
            "Clipping input data to the valid range for imshow with RGB data ([0..1] for floats or [0..255] for integers).\n",
            "Clipping input data to the valid range for imshow with RGB data ([0..1] for floats or [0..255] for integers).\n"
          ],
          "name": "stderr"
        },
        {
          "output_type": "stream",
          "text": [
            "->Epoch 14, Training Index 190, Latest RestoreError 0.005865238606929779\n",
            "->Epoch 14, Training Index 490, Latest RestoreError 0.0064554703421890736\n",
            "->Epoch 14, Training Index 790, Latest RestoreError 0.006163725629448891\n",
            "[14] {'loss_D': 4.8621, 'loss_G': 5.712, 'loss_D_real': 0.0, 'loss_D_fake': 9.7243, 'loss_G_fake': 1e-04, 'loss_G_L1': 0.0571}, time_cost:\n"
          ],
          "name": "stdout"
        },
        {
          "output_type": "stream",
          "text": [
            "Clipping input data to the valid range for imshow with RGB data ([0..1] for floats or [0..255] for integers).\n",
            "Clipping input data to the valid range for imshow with RGB data ([0..1] for floats or [0..255] for integers).\n"
          ],
          "name": "stderr"
        },
        {
          "output_type": "stream",
          "text": [
            "->Epoch 15, Training Index 160, Latest RestoreError 0.005916436668485403\n",
            "->Epoch 15, Training Index 460, Latest RestoreError 0.005534968804568052\n",
            "->Epoch 15, Training Index 760, Latest RestoreError 0.0057428861036896706\n",
            "[15] {'loss_D': 4.9802, 'loss_G': 5.3193, 'loss_D_real': 0.0, 'loss_D_fake': 9.9605, 'loss_G_fake': 1e-04, 'loss_G_L1': 0.0532}, time_cost:\n",
            "Test SnapShot:\n",
            "EPOCH: 15\n",
            " Generator Stats: \n",
            "   G-Noraml  avg: 0.01042, std: 0.00616\n",
            "   G-Abnoraml  avg: 0.01873, std: 0.01525\n",
            "   G-AUC for epoch15: 0.71902\n",
            " Discriminator Stats: \n",
            "   D-Noraml  avg: 0.99952, std: 0.00201\n",
            "   D-Abnoraml  avg: 0.99904, std: 0.00631\n",
            "   D-AUC for epoch15: 0.42291\n",
            "   D-inverse-AUC for epoch15: 0.42291\n"
          ],
          "name": "stdout"
        },
        {
          "output_type": "stream",
          "text": [
            "Clipping input data to the valid range for imshow with RGB data ([0..1] for floats or [0..255] for integers).\n",
            "Clipping input data to the valid range for imshow with RGB data ([0..1] for floats or [0..255] for integers).\n"
          ],
          "name": "stderr"
        },
        {
          "output_type": "stream",
          "text": [
            "->Epoch 16, Training Index 100, Latest RestoreError 0.005215163808315992\n",
            "->Epoch 16, Training Index 400, Latest RestoreError 0.006368892267346382\n",
            "->Epoch 16, Training Index 700, Latest RestoreError 0.004875394515693188\n",
            "->Epoch 16, Training Index 1000, Latest RestoreError 0.004836879670619965\n",
            "[16] {'loss_D': 4.887, 'loss_G': 4.9595, 'loss_D_real': 0.0, 'loss_D_fake': 9.7739, 'loss_G_fake': 1e-04, 'loss_G_L1': 0.0496}, time_cost:\n"
          ],
          "name": "stdout"
        },
        {
          "output_type": "stream",
          "text": [
            "Clipping input data to the valid range for imshow with RGB data ([0..1] for floats or [0..255] for integers).\n",
            "Clipping input data to the valid range for imshow with RGB data ([0..1] for floats or [0..255] for integers).\n"
          ],
          "name": "stderr"
        },
        {
          "output_type": "stream",
          "text": [
            "->Epoch 17, Training Index 370, Latest RestoreError 0.004641543608158827\n",
            "->Epoch 17, Training Index 670, Latest RestoreError 0.0049439179711043835\n",
            "->Epoch 17, Training Index 970, Latest RestoreError 0.005056536756455898\n",
            "[17] {'loss_D': 3.9976, 'loss_G': 5.2312, 'loss_D_real': 0.0, 'loss_D_fake': 7.9952, 'loss_G_fake': 0.0009, 'loss_G_L1': 0.0523}, time_cost:\n"
          ],
          "name": "stdout"
        },
        {
          "output_type": "stream",
          "text": [
            "Clipping input data to the valid range for imshow with RGB data ([0..1] for floats or [0..255] for integers).\n",
            "Clipping input data to the valid range for imshow with RGB data ([0..1] for floats or [0..255] for integers).\n"
          ],
          "name": "stderr"
        },
        {
          "output_type": "stream",
          "text": [
            "->Epoch 18, Training Index 340, Latest RestoreError 0.004936091601848602\n",
            "->Epoch 18, Training Index 640, Latest RestoreError 0.004625916015356779\n",
            "->Epoch 18, Training Index 940, Latest RestoreError 0.005104368086904287\n",
            "[18] {'loss_D': 3.8022, 'loss_G': 5.1888, 'loss_D_real': 0.0, 'loss_D_fake': 7.6044, 'loss_G_fake': 0.0008, 'loss_G_L1': 0.0519}, time_cost:\n"
          ],
          "name": "stdout"
        },
        {
          "output_type": "stream",
          "text": [
            "Clipping input data to the valid range for imshow with RGB data ([0..1] for floats or [0..255] for integers).\n",
            "Clipping input data to the valid range for imshow with RGB data ([0..1] for floats or [0..255] for integers).\n"
          ],
          "name": "stderr"
        },
        {
          "output_type": "stream",
          "text": [
            "->Epoch 19, Training Index 310, Latest RestoreError 0.004813539795577526\n",
            "->Epoch 19, Training Index 610, Latest RestoreError 0.005185612011700869\n",
            "->Epoch 19, Training Index 910, Latest RestoreError 0.005043854005634785\n",
            "[19] {'loss_D': 5.0512, 'loss_G': 4.901, 'loss_D_real': 0.0, 'loss_D_fake': 10.1023, 'loss_G_fake': 1e-04, 'loss_G_L1': 0.049}, time_cost:\n"
          ],
          "name": "stdout"
        },
        {
          "output_type": "stream",
          "text": [
            "Clipping input data to the valid range for imshow with RGB data ([0..1] for floats or [0..255] for integers).\n",
            "Clipping input data to the valid range for imshow with RGB data ([0..1] for floats or [0..255] for integers).\n"
          ],
          "name": "stderr"
        },
        {
          "output_type": "stream",
          "text": [
            "->Epoch 20, Training Index 280, Latest RestoreError 0.004722640383988619\n",
            "->Epoch 20, Training Index 580, Latest RestoreError 0.004574909806251526\n",
            "->Epoch 20, Training Index 880, Latest RestoreError 0.004145867191255093\n",
            "[20] {'loss_D': 32.9083, 'loss_G': 4.8086, 'loss_D_real': 0.0, 'loss_D_fake': 65.8165, 'loss_G_fake': 0.0, 'loss_G_L1': 0.0481}, time_cost:\n",
            "Test SnapShot:\n",
            "EPOCH: 20\n",
            " Generator Stats: \n",
            "   G-Noraml  avg: 0.00986, std: 0.00592\n",
            "   G-Abnoraml  avg: 0.01789, std: 0.01546\n",
            "   G-AUC for epoch20: 0.70305\n",
            " Discriminator Stats: \n",
            "   D-Noraml  avg: 1.00000, std: 0.00001\n",
            "   D-Abnoraml  avg: 0.99996, std: 0.00073\n",
            "   D-AUC for epoch20: 0.38317\n",
            "   D-inverse-AUC for epoch20: 0.38317\n"
          ],
          "name": "stdout"
        },
        {
          "output_type": "stream",
          "text": [
            "Clipping input data to the valid range for imshow with RGB data ([0..1] for floats or [0..255] for integers).\n",
            "Clipping input data to the valid range for imshow with RGB data ([0..1] for floats or [0..255] for integers).\n"
          ],
          "name": "stderr"
        },
        {
          "output_type": "stream",
          "text": [
            "->Epoch 21, Training Index 220, Latest RestoreError 0.004814392887055874\n",
            "->Epoch 21, Training Index 520, Latest RestoreError 0.0049561322666704655\n",
            "->Epoch 21, Training Index 820, Latest RestoreError 0.004831974860280752\n",
            "[21] {'loss_D': 20.1779, 'loss_G': 5.237, 'loss_D_real': 0.0, 'loss_D_fake': 40.3558, 'loss_G_fake': 0.0, 'loss_G_L1': 0.0524}, time_cost:\n"
          ],
          "name": "stdout"
        },
        {
          "output_type": "stream",
          "text": [
            "Clipping input data to the valid range for imshow with RGB data ([0..1] for floats or [0..255] for integers).\n",
            "Clipping input data to the valid range for imshow with RGB data ([0..1] for floats or [0..255] for integers).\n"
          ],
          "name": "stderr"
        },
        {
          "output_type": "stream",
          "text": [
            "->Epoch 22, Training Index 190, Latest RestoreError 0.004181546159088612\n",
            "->Epoch 22, Training Index 490, Latest RestoreError 0.0044426568783819675\n",
            "->Epoch 22, Training Index 790, Latest RestoreError 0.004087948240339756\n",
            "[22] {'loss_D': 13.0276, 'loss_G': 4.6235, 'loss_D_real': 0.0, 'loss_D_fake': 26.0553, 'loss_G_fake': 0.0, 'loss_G_L1': 0.0462}, time_cost:\n"
          ],
          "name": "stdout"
        },
        {
          "output_type": "stream",
          "text": [
            "Clipping input data to the valid range for imshow with RGB data ([0..1] for floats or [0..255] for integers).\n",
            "Clipping input data to the valid range for imshow with RGB data ([0..1] for floats or [0..255] for integers).\n"
          ],
          "name": "stderr"
        },
        {
          "output_type": "stream",
          "text": [
            "->Epoch 23, Training Index 160, Latest RestoreError 0.0046180798672139645\n",
            "->Epoch 23, Training Index 460, Latest RestoreError 0.0039873262867331505\n",
            "->Epoch 23, Training Index 760, Latest RestoreError 0.004465264733880758\n",
            "[23] {'loss_D': 11.2615, 'loss_G': 4.5916, 'loss_D_real': 0.0, 'loss_D_fake': 22.523, 'loss_G_fake': 0.0, 'loss_G_L1': 0.0459}, time_cost:\n"
          ],
          "name": "stdout"
        },
        {
          "output_type": "stream",
          "text": [
            "Clipping input data to the valid range for imshow with RGB data ([0..1] for floats or [0..255] for integers).\n",
            "Clipping input data to the valid range for imshow with RGB data ([0..1] for floats or [0..255] for integers).\n"
          ],
          "name": "stderr"
        },
        {
          "output_type": "stream",
          "text": [
            "->Epoch 24, Training Index 130, Latest RestoreError 0.004302857909351587\n",
            "->Epoch 24, Training Index 430, Latest RestoreError 0.004250618163496256\n",
            "->Epoch 24, Training Index 730, Latest RestoreError 0.0045387777499854565\n",
            "->Epoch 24, Training Index 1030, Latest RestoreError 0.00439734011888504\n",
            "[24] {'loss_D': 6.5431, 'loss_G': 4.5707, 'loss_D_real': 0.0, 'loss_D_fake': 13.0862, 'loss_G_fake': 0.0, 'loss_G_L1': 0.0457}, time_cost:\n"
          ],
          "name": "stdout"
        },
        {
          "output_type": "stream",
          "text": [
            "Clipping input data to the valid range for imshow with RGB data ([0..1] for floats or [0..255] for integers).\n",
            "Clipping input data to the valid range for imshow with RGB data ([0..1] for floats or [0..255] for integers).\n"
          ],
          "name": "stderr"
        },
        {
          "output_type": "stream",
          "text": [
            "->Epoch 25, Training Index 400, Latest RestoreError 0.004076182842254639\n",
            "->Epoch 25, Training Index 700, Latest RestoreError 0.0042945691384375095\n",
            "->Epoch 25, Training Index 1000, Latest RestoreError 0.0034497599117457867\n",
            "[25] {'loss_D': 5.5719, 'loss_G': 4.3431, 'loss_D_real': 0.0, 'loss_D_fake': 11.1438, 'loss_G_fake': 0.0, 'loss_G_L1': 0.0434}, time_cost:\n",
            "Test SnapShot:\n",
            "EPOCH: 25\n",
            " Generator Stats: \n",
            "   G-Noraml  avg: 0.01003, std: 0.00627\n",
            "   G-Abnoraml  avg: 0.01805, std: 0.01579\n",
            "   G-AUC for epoch25: 0.69052\n",
            " Discriminator Stats: \n",
            "   D-Noraml  avg: 0.99988, std: 0.00042\n",
            "   D-Abnoraml  avg: 0.99956, std: 0.00529\n",
            "   D-AUC for epoch25: 0.45726\n",
            "   D-inverse-AUC for epoch25: 0.45726\n"
          ],
          "name": "stdout"
        },
        {
          "output_type": "stream",
          "text": [
            "Clipping input data to the valid range for imshow with RGB data ([0..1] for floats or [0..255] for integers).\n",
            "Clipping input data to the valid range for imshow with RGB data ([0..1] for floats or [0..255] for integers).\n"
          ],
          "name": "stderr"
        },
        {
          "output_type": "stream",
          "text": [
            "->Epoch 26, Training Index 340, Latest RestoreError 0.0044370791874825954\n",
            "->Epoch 26, Training Index 640, Latest RestoreError 0.00396506255492568\n",
            "->Epoch 26, Training Index 940, Latest RestoreError 0.0037185272667557\n",
            "[26] {'loss_D': 5.0745, 'loss_G': 4.4632, 'loss_D_real': 0.0, 'loss_D_fake': 10.149, 'loss_G_fake': 1e-04, 'loss_G_L1': 0.0446}, time_cost:\n"
          ],
          "name": "stdout"
        },
        {
          "output_type": "stream",
          "text": [
            "Clipping input data to the valid range for imshow with RGB data ([0..1] for floats or [0..255] for integers).\n",
            "Clipping input data to the valid range for imshow with RGB data ([0..1] for floats or [0..255] for integers).\n"
          ],
          "name": "stderr"
        },
        {
          "output_type": "stream",
          "text": [
            "->Epoch 27, Training Index 310, Latest RestoreError 0.0037532385904341936\n",
            "->Epoch 27, Training Index 610, Latest RestoreError 0.0037165104877203703\n",
            "->Epoch 27, Training Index 910, Latest RestoreError 0.0037285652942955494\n",
            "[27] {'loss_D': 5.4481, 'loss_G': 4.4247, 'loss_D_real': 0.0, 'loss_D_fake': 10.8962, 'loss_G_fake': 0.0, 'loss_G_L1': 0.0442}, time_cost:\n"
          ],
          "name": "stdout"
        },
        {
          "output_type": "stream",
          "text": [
            "Clipping input data to the valid range for imshow with RGB data ([0..1] for floats or [0..255] for integers).\n",
            "Clipping input data to the valid range for imshow with RGB data ([0..1] for floats or [0..255] for integers).\n"
          ],
          "name": "stderr"
        },
        {
          "output_type": "stream",
          "text": [
            "->Epoch 28, Training Index 280, Latest RestoreError 0.004079348407685757\n",
            "->Epoch 28, Training Index 580, Latest RestoreError 0.003368930658325553\n",
            "->Epoch 28, Training Index 880, Latest RestoreError 0.004160306416451931\n",
            "[28] {'loss_D': 5.6079, 'loss_G': 4.3073, 'loss_D_real': 0.0, 'loss_D_fake': 11.2159, 'loss_G_fake': 0.0, 'loss_G_L1': 0.0431}, time_cost:\n"
          ],
          "name": "stdout"
        },
        {
          "output_type": "stream",
          "text": [
            "Clipping input data to the valid range for imshow with RGB data ([0..1] for floats or [0..255] for integers).\n",
            "Clipping input data to the valid range for imshow with RGB data ([0..1] for floats or [0..255] for integers).\n"
          ],
          "name": "stderr"
        },
        {
          "output_type": "stream",
          "text": [
            "->Epoch 29, Training Index 250, Latest RestoreError 0.003392026061192155\n",
            "->Epoch 29, Training Index 550, Latest RestoreError 0.0037006146740168333\n",
            "->Epoch 29, Training Index 850, Latest RestoreError 0.0035386362578719854\n",
            "[29] {'loss_D': 21.5819, 'loss_G': 4.1498, 'loss_D_real': 0.0, 'loss_D_fake': 43.1638, 'loss_G_fake': 0.0, 'loss_G_L1': 0.0415}, time_cost:\n"
          ],
          "name": "stdout"
        },
        {
          "output_type": "stream",
          "text": [
            "Clipping input data to the valid range for imshow with RGB data ([0..1] for floats or [0..255] for integers).\n",
            "Clipping input data to the valid range for imshow with RGB data ([0..1] for floats or [0..255] for integers).\n"
          ],
          "name": "stderr"
        },
        {
          "output_type": "stream",
          "text": [
            "->Epoch 30, Training Index 220, Latest RestoreError 0.003503132611513138\n",
            "->Epoch 30, Training Index 520, Latest RestoreError 0.0036466342862695456\n",
            "->Epoch 30, Training Index 820, Latest RestoreError 0.003465810790657997\n",
            "[30] {'loss_D': 6.6933, 'loss_G': 4.6081, 'loss_D_real': 0.0, 'loss_D_fake': 13.3867, 'loss_G_fake': 0.0, 'loss_G_L1': 0.0461}, time_cost:\n",
            "Test SnapShot:\n",
            "EPOCH: 30\n",
            " Generator Stats: \n",
            "   G-Noraml  avg: 0.00995, std: 0.00604\n",
            "   G-Abnoraml  avg: 0.01780, std: 0.01537\n",
            "   G-AUC for epoch30: 0.69272\n",
            " Discriminator Stats: \n",
            "   D-Noraml  avg: 0.99999, std: 0.00002\n",
            "   D-Abnoraml  avg: 0.99997, std: 0.00022\n",
            "   D-AUC for epoch30: 0.44412\n",
            "   D-inverse-AUC for epoch30: 0.44412\n"
          ],
          "name": "stdout"
        },
        {
          "output_type": "stream",
          "text": [
            "Clipping input data to the valid range for imshow with RGB data ([0..1] for floats or [0..255] for integers).\n",
            "Clipping input data to the valid range for imshow with RGB data ([0..1] for floats or [0..255] for integers).\n"
          ],
          "name": "stderr"
        },
        {
          "output_type": "stream",
          "text": [
            "->Epoch 31, Training Index 160, Latest RestoreError 0.0034510453697293997\n",
            "->Epoch 31, Training Index 460, Latest RestoreError 0.00341289141215384\n",
            "->Epoch 31, Training Index 760, Latest RestoreError 0.0033956991974264383\n",
            "[31] {'loss_D': 9.4363, 'loss_G': 4.7645, 'loss_D_real': 0.0, 'loss_D_fake': 18.8727, 'loss_G_fake': 0.0, 'loss_G_L1': 0.0476}, time_cost:\n"
          ],
          "name": "stdout"
        },
        {
          "output_type": "stream",
          "text": [
            "Clipping input data to the valid range for imshow with RGB data ([0..1] for floats or [0..255] for integers).\n",
            "Clipping input data to the valid range for imshow with RGB data ([0..1] for floats or [0..255] for integers).\n"
          ],
          "name": "stderr"
        },
        {
          "output_type": "stream",
          "text": [
            "->Epoch 32, Training Index 130, Latest RestoreError 0.0036056716926395893\n",
            "->Epoch 32, Training Index 430, Latest RestoreError 0.003329206258058548\n",
            "->Epoch 32, Training Index 730, Latest RestoreError 0.003524390747770667\n",
            "->Epoch 32, Training Index 1030, Latest RestoreError 0.003302294062450528\n",
            "[32] {'loss_D': 11.5304, 'loss_G': 3.7513, 'loss_D_real': 0.0, 'loss_D_fake': 23.0608, 'loss_G_fake': 0.0, 'loss_G_L1': 0.0375}, time_cost:\n"
          ],
          "name": "stdout"
        },
        {
          "output_type": "stream",
          "text": [
            "Clipping input data to the valid range for imshow with RGB data ([0..1] for floats or [0..255] for integers).\n",
            "Clipping input data to the valid range for imshow with RGB data ([0..1] for floats or [0..255] for integers).\n"
          ],
          "name": "stderr"
        },
        {
          "output_type": "stream",
          "text": [
            "->Epoch 33, Training Index 400, Latest RestoreError 0.002875164384022355\n",
            "->Epoch 33, Training Index 700, Latest RestoreError 0.003265895415097475\n",
            "->Epoch 33, Training Index 1000, Latest RestoreError 0.0037165910471230745\n",
            "[33] {'loss_D': 10.1311, 'loss_G': 3.886, 'loss_D_real': 0.0, 'loss_D_fake': 20.2623, 'loss_G_fake': 0.0, 'loss_G_L1': 0.0389}, time_cost:\n"
          ],
          "name": "stdout"
        },
        {
          "output_type": "stream",
          "text": [
            "Clipping input data to the valid range for imshow with RGB data ([0..1] for floats or [0..255] for integers).\n",
            "Clipping input data to the valid range for imshow with RGB data ([0..1] for floats or [0..255] for integers).\n"
          ],
          "name": "stderr"
        },
        {
          "output_type": "stream",
          "text": [
            "->Epoch 34, Training Index 370, Latest RestoreError 0.003110533347353339\n",
            "->Epoch 34, Training Index 670, Latest RestoreError 0.0030157642904669046\n",
            "->Epoch 34, Training Index 970, Latest RestoreError 0.0029730380047112703\n",
            "[34] {'loss_D': 14.1585, 'loss_G': 3.6745, 'loss_D_real': 0.0, 'loss_D_fake': 28.317, 'loss_G_fake': 0.0, 'loss_G_L1': 0.0367}, time_cost:\n"
          ],
          "name": "stdout"
        },
        {
          "output_type": "stream",
          "text": [
            "Clipping input data to the valid range for imshow with RGB data ([0..1] for floats or [0..255] for integers).\n",
            "Clipping input data to the valid range for imshow with RGB data ([0..1] for floats or [0..255] for integers).\n"
          ],
          "name": "stderr"
        },
        {
          "output_type": "stream",
          "text": [
            "->Epoch 35, Training Index 340, Latest RestoreError 0.0029742498882114887\n",
            "->Epoch 35, Training Index 640, Latest RestoreError 0.0031972192227840424\n",
            "->Epoch 35, Training Index 940, Latest RestoreError 0.0030056280083954334\n",
            "[35] {'loss_D': 14.2874, 'loss_G': 3.9582, 'loss_D_real': 0.0, 'loss_D_fake': 28.5748, 'loss_G_fake': 0.0, 'loss_G_L1': 0.0396}, time_cost:\n",
            "Test SnapShot:\n",
            "EPOCH: 35\n",
            " Generator Stats: \n",
            "   G-Noraml  avg: 0.00947, std: 0.00604\n",
            "   G-Abnoraml  avg: 0.01821, std: 0.01537\n",
            "   G-AUC for epoch35: 0.74706\n",
            " Discriminator Stats: \n",
            "   D-Noraml  avg: 0.99999, std: 0.00005\n",
            "   D-Abnoraml  avg: 0.99980, std: 0.00252\n",
            "   D-AUC for epoch35: 0.33835\n",
            "   D-inverse-AUC for epoch35: 0.33835\n"
          ],
          "name": "stdout"
        },
        {
          "output_type": "stream",
          "text": [
            "Clipping input data to the valid range for imshow with RGB data ([0..1] for floats or [0..255] for integers).\n",
            "Clipping input data to the valid range for imshow with RGB data ([0..1] for floats or [0..255] for integers).\n"
          ],
          "name": "stderr"
        },
        {
          "output_type": "stream",
          "text": [
            "->Epoch 36, Training Index 280, Latest RestoreError 0.002910441718995571\n",
            "->Epoch 36, Training Index 580, Latest RestoreError 0.0026743351481854916\n",
            "->Epoch 36, Training Index 880, Latest RestoreError 0.003137335181236267\n",
            "[36] {'loss_D': 10.9633, 'loss_G': 4.2928, 'loss_D_real': 0.0, 'loss_D_fake': 21.9265, 'loss_G_fake': 0.0, 'loss_G_L1': 0.0429}, time_cost:\n"
          ],
          "name": "stdout"
        },
        {
          "output_type": "stream",
          "text": [
            "Clipping input data to the valid range for imshow with RGB data ([0..1] for floats or [0..255] for integers).\n",
            "Clipping input data to the valid range for imshow with RGB data ([0..1] for floats or [0..255] for integers).\n"
          ],
          "name": "stderr"
        },
        {
          "output_type": "stream",
          "text": [
            "->Epoch 37, Training Index 250, Latest RestoreError 0.0026328428648412228\n",
            "->Epoch 37, Training Index 550, Latest RestoreError 0.003125301329419017\n",
            "->Epoch 37, Training Index 850, Latest RestoreError 0.002769711660221219\n",
            "[37] {'loss_D': 6.7633, 'loss_G': 3.7067, 'loss_D_real': 0.0, 'loss_D_fake': 13.5266, 'loss_G_fake': 0.0, 'loss_G_L1': 0.0371}, time_cost:\n"
          ],
          "name": "stdout"
        },
        {
          "output_type": "stream",
          "text": [
            "Clipping input data to the valid range for imshow with RGB data ([0..1] for floats or [0..255] for integers).\n",
            "Clipping input data to the valid range for imshow with RGB data ([0..1] for floats or [0..255] for integers).\n"
          ],
          "name": "stderr"
        },
        {
          "output_type": "stream",
          "text": [
            "->Epoch 38, Training Index 220, Latest RestoreError 0.0029082298278808594\n",
            "->Epoch 38, Training Index 520, Latest RestoreError 0.0027829171158373356\n",
            "->Epoch 38, Training Index 820, Latest RestoreError 0.0032335324212908745\n",
            "[38] {'loss_D': 6.4205, 'loss_G': 3.91, 'loss_D_real': 0.0, 'loss_D_fake': 12.8411, 'loss_G_fake': 0.0, 'loss_G_L1': 0.0391}, time_cost:\n"
          ],
          "name": "stdout"
        },
        {
          "output_type": "stream",
          "text": [
            "Clipping input data to the valid range for imshow with RGB data ([0..1] for floats or [0..255] for integers).\n",
            "Clipping input data to the valid range for imshow with RGB data ([0..1] for floats or [0..255] for integers).\n"
          ],
          "name": "stderr"
        },
        {
          "output_type": "stream",
          "text": [
            "->Epoch 39, Training Index 190, Latest RestoreError 0.0024653610307723284\n",
            "->Epoch 39, Training Index 490, Latest RestoreError 0.002803565002977848\n",
            "->Epoch 39, Training Index 790, Latest RestoreError 0.002445070305839181\n",
            "[39] {'loss_D': 4.7656, 'loss_G': 3.6463, 'loss_D_real': 0.0, 'loss_D_fake': 9.5313, 'loss_G_fake': 1e-04, 'loss_G_L1': 0.0365}, time_cost:\n"
          ],
          "name": "stdout"
        },
        {
          "output_type": "stream",
          "text": [
            "Clipping input data to the valid range for imshow with RGB data ([0..1] for floats or [0..255] for integers).\n",
            "Clipping input data to the valid range for imshow with RGB data ([0..1] for floats or [0..255] for integers).\n"
          ],
          "name": "stderr"
        },
        {
          "output_type": "stream",
          "text": [
            "->Epoch 40, Training Index 160, Latest RestoreError 0.0025975224561989307\n",
            "->Epoch 40, Training Index 460, Latest RestoreError 0.002669412409886718\n",
            "->Epoch 40, Training Index 760, Latest RestoreError 0.0025676542427390814\n",
            "[40] {'loss_D': 5.0512, 'loss_G': 3.4943, 'loss_D_real': 0.0, 'loss_D_fake': 10.1025, 'loss_G_fake': 1e-04, 'loss_G_L1': 0.0349}, time_cost:\n",
            "Test SnapShot:\n",
            "EPOCH: 40\n",
            " Generator Stats: \n",
            "   G-Noraml  avg: 0.00908, std: 0.00585\n",
            "   G-Abnoraml  avg: 0.01760, std: 0.01513\n",
            "   G-AUC for epoch40: 0.73817\n",
            " Discriminator Stats: \n",
            "   D-Noraml  avg: 0.99793, std: 0.00913\n",
            "   D-Abnoraml  avg: 0.98729, std: 0.06312\n",
            "   D-AUC for epoch40: 0.46624\n",
            "   D-inverse-AUC for epoch40: 0.46624\n"
          ],
          "name": "stdout"
        },
        {
          "output_type": "stream",
          "text": [
            "Clipping input data to the valid range for imshow with RGB data ([0..1] for floats or [0..255] for integers).\n",
            "Clipping input data to the valid range for imshow with RGB data ([0..1] for floats or [0..255] for integers).\n"
          ],
          "name": "stderr"
        },
        {
          "output_type": "stream",
          "text": [
            "->Epoch 41, Training Index 100, Latest RestoreError 0.0024676246102899313\n",
            "->Epoch 41, Training Index 400, Latest RestoreError 0.002462941687554121\n",
            "->Epoch 41, Training Index 700, Latest RestoreError 0.0027236011810600758\n",
            "->Epoch 41, Training Index 1000, Latest RestoreError 0.0025805204641073942\n",
            "[41] {'loss_D': 4.7976, 'loss_G': 3.3821, 'loss_D_real': 0.0, 'loss_D_fake': 9.5952, 'loss_G_fake': 1e-04, 'loss_G_L1': 0.0338}, time_cost:\n"
          ],
          "name": "stdout"
        },
        {
          "output_type": "stream",
          "text": [
            "Clipping input data to the valid range for imshow with RGB data ([0..1] for floats or [0..255] for integers).\n",
            "Clipping input data to the valid range for imshow with RGB data ([0..1] for floats or [0..255] for integers).\n"
          ],
          "name": "stderr"
        },
        {
          "output_type": "stream",
          "text": [
            "->Epoch 42, Training Index 370, Latest RestoreError 0.002492968225851655\n",
            "->Epoch 42, Training Index 670, Latest RestoreError 0.0024492484517395496\n",
            "->Epoch 42, Training Index 970, Latest RestoreError 0.002385808853432536\n",
            "[42] {'loss_D': 4.7917, 'loss_G': 3.4019, 'loss_D_real': 0.0, 'loss_D_fake': 9.5835, 'loss_G_fake': 1e-04, 'loss_G_L1': 0.034}, time_cost:\n"
          ],
          "name": "stdout"
        },
        {
          "output_type": "stream",
          "text": [
            "Clipping input data to the valid range for imshow with RGB data ([0..1] for floats or [0..255] for integers).\n",
            "Clipping input data to the valid range for imshow with RGB data ([0..1] for floats or [0..255] for integers).\n"
          ],
          "name": "stderr"
        },
        {
          "output_type": "stream",
          "text": [
            "->Epoch 43, Training Index 340, Latest RestoreError 0.0023044347763061523\n",
            "->Epoch 43, Training Index 640, Latest RestoreError 0.0027919283602386713\n",
            "->Epoch 43, Training Index 940, Latest RestoreError 0.002060556784272194\n",
            "[43] {'loss_D': 4.3331, 'loss_G': 3.7453, 'loss_D_real': 0.0, 'loss_D_fake': 8.6663, 'loss_G_fake': 0.0005, 'loss_G_L1': 0.0374}, time_cost:\n"
          ],
          "name": "stdout"
        },
        {
          "output_type": "stream",
          "text": [
            "Clipping input data to the valid range for imshow with RGB data ([0..1] for floats or [0..255] for integers).\n",
            "Clipping input data to the valid range for imshow with RGB data ([0..1] for floats or [0..255] for integers).\n"
          ],
          "name": "stderr"
        },
        {
          "output_type": "stream",
          "text": [
            "->Epoch 44, Training Index 310, Latest RestoreError 0.0022463491186499596\n",
            "->Epoch 44, Training Index 610, Latest RestoreError 0.0024010296911001205\n",
            "->Epoch 44, Training Index 910, Latest RestoreError 0.002419996540993452\n",
            "[44] {'loss_D': 6.1252, 'loss_G': 3.7085, 'loss_D_real': 0.0, 'loss_D_fake': 12.2503, 'loss_G_fake': 0.0002, 'loss_G_L1': 0.0371}, time_cost:\n"
          ],
          "name": "stdout"
        },
        {
          "output_type": "stream",
          "text": [
            "Clipping input data to the valid range for imshow with RGB data ([0..1] for floats or [0..255] for integers).\n",
            "Clipping input data to the valid range for imshow with RGB data ([0..1] for floats or [0..255] for integers).\n"
          ],
          "name": "stderr"
        },
        {
          "output_type": "stream",
          "text": [
            "->Epoch 45, Training Index 280, Latest RestoreError 0.0023438893258571625\n",
            "->Epoch 45, Training Index 580, Latest RestoreError 0.0021150701213628054\n",
            "->Epoch 45, Training Index 880, Latest RestoreError 0.0024174524005502462\n",
            "[45] {'loss_D': 6.0684, 'loss_G': 3.5565, 'loss_D_real': 0.0, 'loss_D_fake': 12.1368, 'loss_G_fake': 0.0002, 'loss_G_L1': 0.0356}, time_cost:\n",
            "Test SnapShot:\n",
            "EPOCH: 45\n",
            " Generator Stats: \n",
            "   G-Noraml  avg: 0.00904, std: 0.00586\n",
            "   G-Abnoraml  avg: 0.01764, std: 0.01538\n",
            "   G-AUC for epoch45: 0.73732\n",
            " Discriminator Stats: \n",
            "   D-Noraml  avg: 0.99799, std: 0.00821\n",
            "   D-Abnoraml  avg: 0.98829, std: 0.05253\n",
            "   D-AUC for epoch45: 0.46793\n",
            "   D-inverse-AUC for epoch45: 0.46793\n"
          ],
          "name": "stdout"
        },
        {
          "output_type": "stream",
          "text": [
            "Clipping input data to the valid range for imshow with RGB data ([0..1] for floats or [0..255] for integers).\n",
            "Clipping input data to the valid range for imshow with RGB data ([0..1] for floats or [0..255] for integers).\n"
          ],
          "name": "stderr"
        },
        {
          "output_type": "stream",
          "text": [
            "->Epoch 46, Training Index 220, Latest RestoreError 0.0022560881916433573\n",
            "->Epoch 46, Training Index 520, Latest RestoreError 0.002641507424414158\n",
            "->Epoch 46, Training Index 820, Latest RestoreError 0.002264550654217601\n",
            "[46] {'loss_D': 5.0264, 'loss_G': 3.5557, 'loss_D_real': 0.0, 'loss_D_fake': 10.0528, 'loss_G_fake': 0.0002, 'loss_G_L1': 0.0356}, time_cost:\n"
          ],
          "name": "stdout"
        },
        {
          "output_type": "stream",
          "text": [
            "Clipping input data to the valid range for imshow with RGB data ([0..1] for floats or [0..255] for integers).\n",
            "Clipping input data to the valid range for imshow with RGB data ([0..1] for floats or [0..255] for integers).\n"
          ],
          "name": "stderr"
        },
        {
          "output_type": "stream",
          "text": [
            "->Epoch 47, Training Index 190, Latest RestoreError 0.002246007090434432\n",
            "->Epoch 47, Training Index 490, Latest RestoreError 0.0021250396966934204\n",
            "->Epoch 47, Training Index 790, Latest RestoreError 0.002094817580655217\n",
            "[47] {'loss_D': 6.4252, 'loss_G': 3.4891, 'loss_D_real': 0.0, 'loss_D_fake': 12.8503, 'loss_G_fake': 0.0002, 'loss_G_L1': 0.0349}, time_cost:\n"
          ],
          "name": "stdout"
        },
        {
          "output_type": "stream",
          "text": [
            "Clipping input data to the valid range for imshow with RGB data ([0..1] for floats or [0..255] for integers).\n",
            "Clipping input data to the valid range for imshow with RGB data ([0..1] for floats or [0..255] for integers).\n"
          ],
          "name": "stderr"
        },
        {
          "output_type": "stream",
          "text": [
            "->Epoch 48, Training Index 160, Latest RestoreError 0.002242311602458358\n",
            "->Epoch 48, Training Index 460, Latest RestoreError 0.002175938105210662\n",
            "->Epoch 48, Training Index 760, Latest RestoreError 0.0026600912678986788\n",
            "[48] {'loss_D': 6.0271, 'loss_G': 3.236, 'loss_D_real': 0.0, 'loss_D_fake': 12.0543, 'loss_G_fake': 0.0011, 'loss_G_L1': 0.0323}, time_cost:\n"
          ],
          "name": "stdout"
        },
        {
          "output_type": "stream",
          "text": [
            "Clipping input data to the valid range for imshow with RGB data ([0..1] for floats or [0..255] for integers).\n",
            "Clipping input data to the valid range for imshow with RGB data ([0..1] for floats or [0..255] for integers).\n"
          ],
          "name": "stderr"
        },
        {
          "output_type": "stream",
          "text": [
            "->Epoch 49, Training Index 130, Latest RestoreError 0.0022273645736277103\n",
            "->Epoch 49, Training Index 430, Latest RestoreError 0.002086475258693099\n",
            "->Epoch 49, Training Index 730, Latest RestoreError 0.002083812141790986\n",
            "->Epoch 49, Training Index 1030, Latest RestoreError 0.002478938549757004\n",
            "[49] {'loss_D': 5.4467, 'loss_G': 3.2847, 'loss_D_real': 0.0, 'loss_D_fake': 10.8934, 'loss_G_fake': 0.0, 'loss_G_L1': 0.0328}, time_cost:\n"
          ],
          "name": "stdout"
        },
        {
          "output_type": "stream",
          "text": [
            "Clipping input data to the valid range for imshow with RGB data ([0..1] for floats or [0..255] for integers).\n",
            "Clipping input data to the valid range for imshow with RGB data ([0..1] for floats or [0..255] for integers).\n"
          ],
          "name": "stderr"
        },
        {
          "output_type": "stream",
          "text": [
            "->Epoch 50, Training Index 400, Latest RestoreError 0.0020289865788072348\n",
            "->Epoch 50, Training Index 700, Latest RestoreError 0.002156616887077689\n",
            "->Epoch 50, Training Index 1000, Latest RestoreError 0.0019990818109363317\n",
            "[50] {'loss_D': 5.244, 'loss_G': 2.9744, 'loss_D_real': 0.0, 'loss_D_fake': 10.488, 'loss_G_fake': 1e-04, 'loss_G_L1': 0.0297}, time_cost:\n",
            "Test SnapShot:\n",
            "EPOCH: 50\n",
            " Generator Stats: \n",
            "   G-Noraml  avg: 0.00902, std: 0.00572\n",
            "   G-Abnoraml  avg: 0.01703, std: 0.01476\n",
            "   G-AUC for epoch50: 0.72228\n",
            " Discriminator Stats: \n",
            "   D-Noraml  avg: 0.99692, std: 0.01214\n",
            "   D-Abnoraml  avg: 0.98390, std: 0.06637\n",
            "   D-AUC for epoch50: 0.47871\n",
            "   D-inverse-AUC for epoch50: 0.47871\n"
          ],
          "name": "stdout"
        },
        {
          "output_type": "stream",
          "text": [
            "Clipping input data to the valid range for imshow with RGB data ([0..1] for floats or [0..255] for integers).\n",
            "Clipping input data to the valid range for imshow with RGB data ([0..1] for floats or [0..255] for integers).\n"
          ],
          "name": "stderr"
        },
        {
          "output_type": "stream",
          "text": [
            "->Epoch 51, Training Index 340, Latest RestoreError 0.0020143697038292885\n",
            "->Epoch 51, Training Index 640, Latest RestoreError 0.0018998325103893876\n",
            "->Epoch 51, Training Index 940, Latest RestoreError 0.0020384788513183594\n",
            "[51] {'loss_D': 5.3836, 'loss_G': 3.1329, 'loss_D_real': 0.0, 'loss_D_fake': 10.7673, 'loss_G_fake': 1e-04, 'loss_G_L1': 0.0313}, time_cost:\n"
          ],
          "name": "stdout"
        },
        {
          "output_type": "stream",
          "text": [
            "Clipping input data to the valid range for imshow with RGB data ([0..1] for floats or [0..255] for integers).\n",
            "Clipping input data to the valid range for imshow with RGB data ([0..1] for floats or [0..255] for integers).\n"
          ],
          "name": "stderr"
        },
        {
          "output_type": "stream",
          "text": [
            "->Epoch 52, Training Index 310, Latest RestoreError 0.0021098130382597446\n",
            "->Epoch 52, Training Index 610, Latest RestoreError 0.002301018452271819\n",
            "->Epoch 52, Training Index 910, Latest RestoreError 0.00211803475394845\n",
            "[52] {'loss_D': 5.4028, 'loss_G': 2.9021, 'loss_D_real': 0.0, 'loss_D_fake': 10.8057, 'loss_G_fake': 0.0, 'loss_G_L1': 0.029}, time_cost:\n"
          ],
          "name": "stdout"
        },
        {
          "output_type": "stream",
          "text": [
            "Clipping input data to the valid range for imshow with RGB data ([0..1] for floats or [0..255] for integers).\n",
            "Clipping input data to the valid range for imshow with RGB data ([0..1] for floats or [0..255] for integers).\n"
          ],
          "name": "stderr"
        },
        {
          "output_type": "stream",
          "text": [
            "->Epoch 53, Training Index 280, Latest RestoreError 0.0018958088476210833\n",
            "->Epoch 53, Training Index 580, Latest RestoreError 0.0018602581694722176\n",
            "->Epoch 53, Training Index 880, Latest RestoreError 0.0018859502160921693\n",
            "[53] {'loss_D': 5.9281, 'loss_G': 3.1471, 'loss_D_real': 0.0, 'loss_D_fake': 11.8562, 'loss_G_fake': 0.0, 'loss_G_L1': 0.0315}, time_cost:\n"
          ],
          "name": "stdout"
        },
        {
          "output_type": "stream",
          "text": [
            "Clipping input data to the valid range for imshow with RGB data ([0..1] for floats or [0..255] for integers).\n",
            "Clipping input data to the valid range for imshow with RGB data ([0..1] for floats or [0..255] for integers).\n"
          ],
          "name": "stderr"
        },
        {
          "output_type": "stream",
          "text": [
            "->Epoch 54, Training Index 250, Latest RestoreError 0.002333028707653284\n",
            "->Epoch 54, Training Index 550, Latest RestoreError 0.001966453855857253\n",
            "->Epoch 54, Training Index 850, Latest RestoreError 0.002674385206773877\n",
            "[54] {'loss_D': 5.6267, 'loss_G': 3.0237, 'loss_D_real': 0.0, 'loss_D_fake': 11.2533, 'loss_G_fake': 1e-04, 'loss_G_L1': 0.0302}, time_cost:\n"
          ],
          "name": "stdout"
        },
        {
          "output_type": "stream",
          "text": [
            "Clipping input data to the valid range for imshow with RGB data ([0..1] for floats or [0..255] for integers).\n",
            "Clipping input data to the valid range for imshow with RGB data ([0..1] for floats or [0..255] for integers).\n"
          ],
          "name": "stderr"
        },
        {
          "output_type": "stream",
          "text": [
            "->Epoch 55, Training Index 220, Latest RestoreError 0.001918019144795835\n",
            "->Epoch 55, Training Index 520, Latest RestoreError 0.0019560069777071476\n",
            "->Epoch 55, Training Index 820, Latest RestoreError 0.0017878582002595067\n",
            "[55] {'loss_D': 5.6662, 'loss_G': 3.0886, 'loss_D_real': 0.0, 'loss_D_fake': 11.3325, 'loss_G_fake': 0.0002, 'loss_G_L1': 0.0309}, time_cost:\n",
            "Test SnapShot:\n",
            "EPOCH: 55\n",
            " Generator Stats: \n",
            "   G-Noraml  avg: 0.00900, std: 0.00572\n",
            "   G-Abnoraml  avg: 0.01747, std: 0.01518\n",
            "   G-AUC for epoch55: 0.73402\n",
            " Discriminator Stats: \n",
            "   D-Noraml  avg: 0.99807, std: 0.00750\n",
            "   D-Abnoraml  avg: 0.99110, std: 0.04244\n",
            "   D-AUC for epoch55: 0.48823\n",
            "   D-inverse-AUC for epoch55: 0.48823\n"
          ],
          "name": "stdout"
        },
        {
          "output_type": "stream",
          "text": [
            "Clipping input data to the valid range for imshow with RGB data ([0..1] for floats or [0..255] for integers).\n",
            "Clipping input data to the valid range for imshow with RGB data ([0..1] for floats or [0..255] for integers).\n"
          ],
          "name": "stderr"
        },
        {
          "output_type": "stream",
          "text": [
            "->Epoch 56, Training Index 160, Latest RestoreError 0.0018477831035852432\n",
            "->Epoch 56, Training Index 460, Latest RestoreError 0.0020477985963225365\n",
            "->Epoch 56, Training Index 760, Latest RestoreError 0.0018985880305990577\n",
            "[56] {'loss_D': 5.7941, 'loss_G': 3.0953, 'loss_D_real': 0.0, 'loss_D_fake': 11.5881, 'loss_G_fake': 0.0, 'loss_G_L1': 0.031}, time_cost:\n"
          ],
          "name": "stdout"
        },
        {
          "output_type": "stream",
          "text": [
            "Clipping input data to the valid range for imshow with RGB data ([0..1] for floats or [0..255] for integers).\n",
            "Clipping input data to the valid range for imshow with RGB data ([0..1] for floats or [0..255] for integers).\n"
          ],
          "name": "stderr"
        },
        {
          "output_type": "stream",
          "text": [
            "->Epoch 57, Training Index 130, Latest RestoreError 0.001960447523742914\n",
            "->Epoch 57, Training Index 430, Latest RestoreError 0.0018016083631664515\n",
            "->Epoch 57, Training Index 730, Latest RestoreError 0.0017966913292184472\n",
            "->Epoch 57, Training Index 1030, Latest RestoreError 0.0017514947103336453\n",
            "[57] {'loss_D': 5.7231, 'loss_G': 3.1739, 'loss_D_real': 0.0, 'loss_D_fake': 11.4462, 'loss_G_fake': 0.0, 'loss_G_L1': 0.0317}, time_cost:\n"
          ],
          "name": "stdout"
        },
        {
          "output_type": "stream",
          "text": [
            "Clipping input data to the valid range for imshow with RGB data ([0..1] for floats or [0..255] for integers).\n",
            "Clipping input data to the valid range for imshow with RGB data ([0..1] for floats or [0..255] for integers).\n"
          ],
          "name": "stderr"
        },
        {
          "output_type": "stream",
          "text": [
            "->Epoch 58, Training Index 400, Latest RestoreError 0.002569144358858466\n",
            "->Epoch 58, Training Index 700, Latest RestoreError 0.0017484158743172884\n",
            "->Epoch 58, Training Index 1000, Latest RestoreError 0.0016304218443110585\n",
            "[58] {'loss_D': 6.2673, 'loss_G': 2.7832, 'loss_D_real': 0.0, 'loss_D_fake': 12.5346, 'loss_G_fake': 0.0, 'loss_G_L1': 0.0278}, time_cost:\n"
          ],
          "name": "stdout"
        },
        {
          "output_type": "stream",
          "text": [
            "Clipping input data to the valid range for imshow with RGB data ([0..1] for floats or [0..255] for integers).\n",
            "Clipping input data to the valid range for imshow with RGB data ([0..1] for floats or [0..255] for integers).\n"
          ],
          "name": "stderr"
        },
        {
          "output_type": "stream",
          "text": [
            "->Epoch 59, Training Index 370, Latest RestoreError 0.0016603920375928283\n",
            "->Epoch 59, Training Index 670, Latest RestoreError 0.001654207706451416\n",
            "->Epoch 59, Training Index 970, Latest RestoreError 0.001908634090796113\n",
            "[59] {'loss_D': 6.3305, 'loss_G': 3.0278, 'loss_D_real': 0.0, 'loss_D_fake': 12.661, 'loss_G_fake': 0.0, 'loss_G_L1': 0.0303}, time_cost:\n"
          ],
          "name": "stdout"
        },
        {
          "output_type": "stream",
          "text": [
            "Clipping input data to the valid range for imshow with RGB data ([0..1] for floats or [0..255] for integers).\n",
            "Clipping input data to the valid range for imshow with RGB data ([0..1] for floats or [0..255] for integers).\n"
          ],
          "name": "stderr"
        },
        {
          "output_type": "stream",
          "text": [
            "->Epoch 60, Training Index 340, Latest RestoreError 0.0020021707750856876\n",
            "->Epoch 60, Training Index 640, Latest RestoreError 0.0017141590360552073\n",
            "->Epoch 60, Training Index 940, Latest RestoreError 0.0016540155047550797\n",
            "[60] {'loss_D': 6.0806, 'loss_G': 2.9566, 'loss_D_real': 0.0, 'loss_D_fake': 12.1611, 'loss_G_fake': 0.0, 'loss_G_L1': 0.0296}, time_cost:\n",
            "Test SnapShot:\n",
            "EPOCH: 60\n",
            " Generator Stats: \n",
            "   G-Noraml  avg: 0.00913, std: 0.00567\n",
            "   G-Abnoraml  avg: 0.01762, std: 0.01537\n",
            "   G-AUC for epoch60: 0.72352\n",
            " Discriminator Stats: \n",
            "   D-Noraml  avg: 0.99802, std: 0.01069\n",
            "   D-Abnoraml  avg: 0.98805, std: 0.05399\n",
            "   D-AUC for epoch60: 0.44898\n",
            "   D-inverse-AUC for epoch60: 0.44898\n"
          ],
          "name": "stdout"
        },
        {
          "output_type": "stream",
          "text": [
            "Clipping input data to the valid range for imshow with RGB data ([0..1] for floats or [0..255] for integers).\n",
            "Clipping input data to the valid range for imshow with RGB data ([0..1] for floats or [0..255] for integers).\n"
          ],
          "name": "stderr"
        },
        {
          "output_type": "stream",
          "text": [
            "->Epoch 61, Training Index 280, Latest RestoreError 0.0017344991210848093\n",
            "->Epoch 61, Training Index 580, Latest RestoreError 0.0017117979004979134\n",
            "->Epoch 61, Training Index 880, Latest RestoreError 0.0019231175538152456\n",
            "[61] {'loss_D': 6.7428, 'loss_G': 2.7687, 'loss_D_real': 0.0, 'loss_D_fake': 13.4856, 'loss_G_fake': 0.0, 'loss_G_L1': 0.0277}, time_cost:\n"
          ],
          "name": "stdout"
        },
        {
          "output_type": "stream",
          "text": [
            "Clipping input data to the valid range for imshow with RGB data ([0..1] for floats or [0..255] for integers).\n",
            "Clipping input data to the valid range for imshow with RGB data ([0..1] for floats or [0..255] for integers).\n"
          ],
          "name": "stderr"
        },
        {
          "output_type": "stream",
          "text": [
            "->Epoch 62, Training Index 250, Latest RestoreError 0.0019209322053939104\n",
            "->Epoch 62, Training Index 550, Latest RestoreError 0.0019683921709656715\n",
            "->Epoch 62, Training Index 850, Latest RestoreError 0.0016243779100477695\n",
            "[62] {'loss_D': 6.5009, 'loss_G': 2.7908, 'loss_D_real': 0.0, 'loss_D_fake': 13.0018, 'loss_G_fake': 0.0, 'loss_G_L1': 0.0279}, time_cost:\n"
          ],
          "name": "stdout"
        },
        {
          "output_type": "stream",
          "text": [
            "Clipping input data to the valid range for imshow with RGB data ([0..1] for floats or [0..255] for integers).\n",
            "Clipping input data to the valid range for imshow with RGB data ([0..1] for floats or [0..255] for integers).\n"
          ],
          "name": "stderr"
        },
        {
          "output_type": "stream",
          "text": [
            "->Epoch 63, Training Index 220, Latest RestoreError 0.0017216609558090568\n",
            "->Epoch 63, Training Index 520, Latest RestoreError 0.0015899671707302332\n",
            "->Epoch 63, Training Index 820, Latest RestoreError 0.001688044285401702\n",
            "[63] {'loss_D': 6.6375, 'loss_G': 2.8337, 'loss_D_real': 0.0, 'loss_D_fake': 13.2751, 'loss_G_fake': 0.0, 'loss_G_L1': 0.0283}, time_cost:\n"
          ],
          "name": "stdout"
        },
        {
          "output_type": "stream",
          "text": [
            "Clipping input data to the valid range for imshow with RGB data ([0..1] for floats or [0..255] for integers).\n",
            "Clipping input data to the valid range for imshow with RGB data ([0..1] for floats or [0..255] for integers).\n"
          ],
          "name": "stderr"
        },
        {
          "output_type": "stream",
          "text": [
            "->Epoch 64, Training Index 190, Latest RestoreError 0.0015222307993099093\n",
            "->Epoch 64, Training Index 490, Latest RestoreError 0.0016992256278172135\n",
            "->Epoch 64, Training Index 790, Latest RestoreError 0.001794968731701374\n",
            "[64] {'loss_D': 7.9709, 'loss_G': 2.6285, 'loss_D_real': 0.0, 'loss_D_fake': 15.9417, 'loss_G_fake': 0.0, 'loss_G_L1': 0.0263}, time_cost:\n"
          ],
          "name": "stdout"
        },
        {
          "output_type": "stream",
          "text": [
            "Clipping input data to the valid range for imshow with RGB data ([0..1] for floats or [0..255] for integers).\n",
            "Clipping input data to the valid range for imshow with RGB data ([0..1] for floats or [0..255] for integers).\n"
          ],
          "name": "stderr"
        },
        {
          "output_type": "stream",
          "text": [
            "->Epoch 65, Training Index 160, Latest RestoreError 0.0014714516000822186\n",
            "->Epoch 65, Training Index 460, Latest RestoreError 0.0015361316036432981\n",
            "->Epoch 65, Training Index 760, Latest RestoreError 0.0017239988083019853\n",
            "[65] {'loss_D': 6.5385, 'loss_G': 2.6908, 'loss_D_real': 0.0, 'loss_D_fake': 13.0769, 'loss_G_fake': 0.0, 'loss_G_L1': 0.0269}, time_cost:\n",
            "Test SnapShot:\n",
            "EPOCH: 65\n",
            " Generator Stats: \n",
            "   G-Noraml  avg: 0.00924, std: 0.00572\n",
            "   G-Abnoraml  avg: 0.01763, std: 0.01559\n",
            "   G-AUC for epoch65: 0.71415\n",
            " Discriminator Stats: \n",
            "   D-Noraml  avg: 0.99920, std: 0.00454\n",
            "   D-Abnoraml  avg: 0.99398, std: 0.03526\n",
            "   D-AUC for epoch65: 0.47768\n",
            "   D-inverse-AUC for epoch65: 0.47768\n"
          ],
          "name": "stdout"
        },
        {
          "output_type": "stream",
          "text": [
            "Clipping input data to the valid range for imshow with RGB data ([0..1] for floats or [0..255] for integers).\n",
            "Clipping input data to the valid range for imshow with RGB data ([0..1] for floats or [0..255] for integers).\n"
          ],
          "name": "stderr"
        },
        {
          "output_type": "stream",
          "text": [
            "->Epoch 66, Training Index 100, Latest RestoreError 0.001677134307101369\n",
            "->Epoch 66, Training Index 400, Latest RestoreError 0.0014462192775681615\n",
            "->Epoch 66, Training Index 700, Latest RestoreError 0.0015362096019089222\n",
            "->Epoch 66, Training Index 1000, Latest RestoreError 0.0014870091108605266\n",
            "[66] {'loss_D': 7.7572, 'loss_G': 3.1386, 'loss_D_real': 0.0, 'loss_D_fake': 15.5144, 'loss_G_fake': 1e-04, 'loss_G_L1': 0.0314}, time_cost:\n"
          ],
          "name": "stdout"
        },
        {
          "output_type": "stream",
          "text": [
            "Clipping input data to the valid range for imshow with RGB data ([0..1] for floats or [0..255] for integers).\n",
            "Clipping input data to the valid range for imshow with RGB data ([0..1] for floats or [0..255] for integers).\n"
          ],
          "name": "stderr"
        },
        {
          "output_type": "stream",
          "text": [
            "->Epoch 67, Training Index 370, Latest RestoreError 0.001494479482062161\n",
            "->Epoch 67, Training Index 670, Latest RestoreError 0.001477204728871584\n",
            "->Epoch 67, Training Index 970, Latest RestoreError 0.00165119010489434\n",
            "[67] {'loss_D': 9.2371, 'loss_G': 2.5683, 'loss_D_real': 0.0, 'loss_D_fake': 18.4742, 'loss_G_fake': 0.0, 'loss_G_L1': 0.0257}, time_cost:\n"
          ],
          "name": "stdout"
        },
        {
          "output_type": "stream",
          "text": [
            "Clipping input data to the valid range for imshow with RGB data ([0..1] for floats or [0..255] for integers).\n",
            "Clipping input data to the valid range for imshow with RGB data ([0..1] for floats or [0..255] for integers).\n"
          ],
          "name": "stderr"
        },
        {
          "output_type": "stream",
          "text": [
            "->Epoch 68, Training Index 340, Latest RestoreError 0.0014641036977991462\n",
            "->Epoch 68, Training Index 640, Latest RestoreError 0.0015483844326809049\n",
            "->Epoch 68, Training Index 940, Latest RestoreError 0.0014941702829673886\n",
            "[68] {'loss_D': 6.5865, 'loss_G': 2.8093, 'loss_D_real': 0.0, 'loss_D_fake': 13.1731, 'loss_G_fake': 0.0, 'loss_G_L1': 0.0281}, time_cost:\n"
          ],
          "name": "stdout"
        },
        {
          "output_type": "stream",
          "text": [
            "Clipping input data to the valid range for imshow with RGB data ([0..1] for floats or [0..255] for integers).\n",
            "Clipping input data to the valid range for imshow with RGB data ([0..1] for floats or [0..255] for integers).\n"
          ],
          "name": "stderr"
        },
        {
          "output_type": "stream",
          "text": [
            "->Epoch 69, Training Index 310, Latest RestoreError 0.0013565253466367722\n",
            "->Epoch 69, Training Index 610, Latest RestoreError 0.0014819055795669556\n",
            "->Epoch 69, Training Index 910, Latest RestoreError 0.001501915859989822\n",
            "[69] {'loss_D': 8.1539, 'loss_G': 2.6619, 'loss_D_real': 0.0, 'loss_D_fake': 16.3077, 'loss_G_fake': 0.0, 'loss_G_L1': 0.0266}, time_cost:\n"
          ],
          "name": "stdout"
        },
        {
          "output_type": "stream",
          "text": [
            "Clipping input data to the valid range for imshow with RGB data ([0..1] for floats or [0..255] for integers).\n",
            "Clipping input data to the valid range for imshow with RGB data ([0..1] for floats or [0..255] for integers).\n"
          ],
          "name": "stderr"
        },
        {
          "output_type": "stream",
          "text": [
            "->Epoch 70, Training Index 280, Latest RestoreError 0.0014929564204066992\n",
            "->Epoch 70, Training Index 580, Latest RestoreError 0.001654231920838356\n",
            "->Epoch 70, Training Index 880, Latest RestoreError 0.0013904654188081622\n",
            "[70] {'loss_D': 8.1603, 'loss_G': 2.5619, 'loss_D_real': 0.0, 'loss_D_fake': 16.3205, 'loss_G_fake': 0.0, 'loss_G_L1': 0.0256}, time_cost:\n",
            "Test SnapShot:\n",
            "EPOCH: 70\n",
            " Generator Stats: \n",
            "   G-Noraml  avg: 0.00876, std: 0.00566\n",
            "   G-Abnoraml  avg: 0.01757, std: 0.01544\n",
            "   G-AUC for epoch70: 0.74768\n",
            " Discriminator Stats: \n",
            "   D-Noraml  avg: 0.99968, std: 0.00154\n",
            "   D-Abnoraml  avg: 0.99615, std: 0.02387\n",
            "   D-AUC for epoch70: 0.42217\n",
            "   D-inverse-AUC for epoch70: 0.42217\n"
          ],
          "name": "stdout"
        },
        {
          "output_type": "stream",
          "text": [
            "Clipping input data to the valid range for imshow with RGB data ([0..1] for floats or [0..255] for integers).\n",
            "Clipping input data to the valid range for imshow with RGB data ([0..1] for floats or [0..255] for integers).\n"
          ],
          "name": "stderr"
        },
        {
          "output_type": "stream",
          "text": [
            "->Epoch 71, Training Index 220, Latest RestoreError 0.0014844811521470547\n",
            "->Epoch 71, Training Index 520, Latest RestoreError 0.0014759355690330267\n",
            "->Epoch 71, Training Index 820, Latest RestoreError 0.0014367554103955626\n",
            "[71] {'loss_D': 8.2979, 'loss_G': 2.7657, 'loss_D_real': 0.0, 'loss_D_fake': 16.5958, 'loss_G_fake': 0.0, 'loss_G_L1': 0.0277}, time_cost:\n"
          ],
          "name": "stdout"
        },
        {
          "output_type": "stream",
          "text": [
            "Clipping input data to the valid range for imshow with RGB data ([0..1] for floats or [0..255] for integers).\n",
            "Clipping input data to the valid range for imshow with RGB data ([0..1] for floats or [0..255] for integers).\n"
          ],
          "name": "stderr"
        },
        {
          "output_type": "stream",
          "text": [
            "->Epoch 72, Training Index 190, Latest RestoreError 0.0019076999742537737\n",
            "->Epoch 72, Training Index 490, Latest RestoreError 0.0014988866169005632\n",
            "->Epoch 72, Training Index 790, Latest RestoreError 0.001429809140972793\n",
            "[72] {'loss_D': 8.4952, 'loss_G': 2.6808, 'loss_D_real': 0.0, 'loss_D_fake': 16.9904, 'loss_G_fake': 0.0, 'loss_G_L1': 0.0268}, time_cost:\n"
          ],
          "name": "stdout"
        },
        {
          "output_type": "stream",
          "text": [
            "Clipping input data to the valid range for imshow with RGB data ([0..1] for floats or [0..255] for integers).\n",
            "Clipping input data to the valid range for imshow with RGB data ([0..1] for floats or [0..255] for integers).\n"
          ],
          "name": "stderr"
        },
        {
          "output_type": "stream",
          "text": [
            "->Epoch 73, Training Index 160, Latest RestoreError 0.0015113729750737548\n",
            "->Epoch 73, Training Index 460, Latest RestoreError 0.0015340021345764399\n",
            "->Epoch 73, Training Index 760, Latest RestoreError 0.0014212977839633822\n",
            "[73] {'loss_D': 7.8351, 'loss_G': 2.6865, 'loss_D_real': 0.0, 'loss_D_fake': 15.6702, 'loss_G_fake': 0.0, 'loss_G_L1': 0.0269}, time_cost:\n"
          ],
          "name": "stdout"
        },
        {
          "output_type": "stream",
          "text": [
            "Clipping input data to the valid range for imshow with RGB data ([0..1] for floats or [0..255] for integers).\n",
            "Clipping input data to the valid range for imshow with RGB data ([0..1] for floats or [0..255] for integers).\n"
          ],
          "name": "stderr"
        },
        {
          "output_type": "stream",
          "text": [
            "->Epoch 74, Training Index 130, Latest RestoreError 0.0014354786835610867\n",
            "->Epoch 74, Training Index 430, Latest RestoreError 0.0015204647788777947\n",
            "->Epoch 74, Training Index 730, Latest RestoreError 0.0015577191952615976\n",
            "->Epoch 74, Training Index 1030, Latest RestoreError 0.0016552881570532918\n",
            "[74] {'loss_D': 8.2689, 'loss_G': 2.8055, 'loss_D_real': 0.0, 'loss_D_fake': 16.5377, 'loss_G_fake': 0.0, 'loss_G_L1': 0.0281}, time_cost:\n"
          ],
          "name": "stdout"
        },
        {
          "output_type": "stream",
          "text": [
            "Clipping input data to the valid range for imshow with RGB data ([0..1] for floats or [0..255] for integers).\n",
            "Clipping input data to the valid range for imshow with RGB data ([0..1] for floats or [0..255] for integers).\n"
          ],
          "name": "stderr"
        },
        {
          "output_type": "stream",
          "text": [
            "->Epoch 75, Training Index 400, Latest RestoreError 0.0014096200466156006\n",
            "->Epoch 75, Training Index 700, Latest RestoreError 0.0014621552545577288\n",
            "->Epoch 75, Training Index 1000, Latest RestoreError 0.001705154892988503\n",
            "[75] {'loss_D': 11.5072, 'loss_G': 2.7769, 'loss_D_real': 0.0, 'loss_D_fake': 23.0143, 'loss_G_fake': 0.0, 'loss_G_L1': 0.0278}, time_cost:\n",
            "Test SnapShot:\n",
            "EPOCH: 75\n",
            " Generator Stats: \n",
            "   G-Noraml  avg: 0.00904, std: 0.00572\n",
            "   G-Abnoraml  avg: 0.01756, std: 0.01524\n",
            "   G-AUC for epoch75: 0.73061\n",
            " Discriminator Stats: \n",
            "   D-Noraml  avg: 0.99970, std: 0.00166\n",
            "   D-Abnoraml  avg: 0.99614, std: 0.02754\n",
            "   D-AUC for epoch75: 0.42058\n",
            "   D-inverse-AUC for epoch75: 0.42058\n"
          ],
          "name": "stdout"
        },
        {
          "output_type": "stream",
          "text": [
            "Clipping input data to the valid range for imshow with RGB data ([0..1] for floats or [0..255] for integers).\n",
            "Clipping input data to the valid range for imshow with RGB data ([0..1] for floats or [0..255] for integers).\n"
          ],
          "name": "stderr"
        },
        {
          "output_type": "stream",
          "text": [
            "->Epoch 76, Training Index 340, Latest RestoreError 0.0016142709646373987\n",
            "->Epoch 76, Training Index 640, Latest RestoreError 0.0014426585985347629\n",
            "->Epoch 76, Training Index 940, Latest RestoreError 0.0014200186124071479\n",
            "[76] {'loss_D': 6.9084, 'loss_G': 2.5288, 'loss_D_real': 0.0, 'loss_D_fake': 13.8169, 'loss_G_fake': 0.0, 'loss_G_L1': 0.0253}, time_cost:\n"
          ],
          "name": "stdout"
        },
        {
          "output_type": "stream",
          "text": [
            "Clipping input data to the valid range for imshow with RGB data ([0..1] for floats or [0..255] for integers).\n",
            "Clipping input data to the valid range for imshow with RGB data ([0..1] for floats or [0..255] for integers).\n"
          ],
          "name": "stderr"
        },
        {
          "output_type": "stream",
          "text": [
            "->Epoch 77, Training Index 310, Latest RestoreError 0.0016178095247596502\n",
            "->Epoch 77, Training Index 610, Latest RestoreError 0.00162075727712363\n",
            "->Epoch 77, Training Index 910, Latest RestoreError 0.001540740136988461\n",
            "[77] {'loss_D': 12.3766, 'loss_G': 2.4964, 'loss_D_real': 0.0, 'loss_D_fake': 24.7533, 'loss_G_fake': 0.0, 'loss_G_L1': 0.025}, time_cost:\n"
          ],
          "name": "stdout"
        },
        {
          "output_type": "stream",
          "text": [
            "Clipping input data to the valid range for imshow with RGB data ([0..1] for floats or [0..255] for integers).\n",
            "Clipping input data to the valid range for imshow with RGB data ([0..1] for floats or [0..255] for integers).\n"
          ],
          "name": "stderr"
        },
        {
          "output_type": "stream",
          "text": [
            "->Epoch 78, Training Index 280, Latest RestoreError 0.0016585714183747768\n",
            "->Epoch 78, Training Index 580, Latest RestoreError 0.0014029141748324037\n",
            "->Epoch 78, Training Index 880, Latest RestoreError 0.0013320435537025332\n",
            "[78] {'loss_D': 19.8034, 'loss_G': 2.393, 'loss_D_real': 0.0, 'loss_D_fake': 39.6069, 'loss_G_fake': 1e-04, 'loss_G_L1': 0.0239}, time_cost:\n"
          ],
          "name": "stdout"
        },
        {
          "output_type": "stream",
          "text": [
            "Clipping input data to the valid range for imshow with RGB data ([0..1] for floats or [0..255] for integers).\n",
            "Clipping input data to the valid range for imshow with RGB data ([0..1] for floats or [0..255] for integers).\n"
          ],
          "name": "stderr"
        },
        {
          "output_type": "stream",
          "text": [
            "->Epoch 79, Training Index 250, Latest RestoreError 0.0013001650804653764\n",
            "->Epoch 79, Training Index 550, Latest RestoreError 0.001348826102912426\n",
            "->Epoch 79, Training Index 850, Latest RestoreError 0.0014098694082349539\n",
            "[79] {'loss_D': 12.8694, 'loss_G': 2.5318, 'loss_D_real': 0.0, 'loss_D_fake': 25.7387, 'loss_G_fake': 0.0, 'loss_G_L1': 0.0253}, time_cost:\n"
          ],
          "name": "stdout"
        },
        {
          "output_type": "stream",
          "text": [
            "Clipping input data to the valid range for imshow with RGB data ([0..1] for floats or [0..255] for integers).\n",
            "Clipping input data to the valid range for imshow with RGB data ([0..1] for floats or [0..255] for integers).\n"
          ],
          "name": "stderr"
        },
        {
          "output_type": "stream",
          "text": [
            "->Epoch 80, Training Index 220, Latest RestoreError 0.0015359686221927404\n",
            "->Epoch 80, Training Index 520, Latest RestoreError 0.0014752513961866498\n",
            "->Epoch 80, Training Index 820, Latest RestoreError 0.00135320657864213\n",
            "[80] {'loss_D': 8.4737, 'loss_G': 2.5968, 'loss_D_real': 0.0, 'loss_D_fake': 16.9473, 'loss_G_fake': 0.0, 'loss_G_L1': 0.026}, time_cost:\n",
            "Test SnapShot:\n",
            "EPOCH: 80\n",
            " Generator Stats: \n",
            "   G-Noraml  avg: 0.00872, std: 0.00559\n",
            "   G-Abnoraml  avg: 0.01710, std: 0.01489\n",
            "   G-AUC for epoch80: 0.73328\n",
            " Discriminator Stats: \n",
            "   D-Noraml  avg: 0.99978, std: 0.00138\n",
            "   D-Abnoraml  avg: 0.99620, std: 0.03244\n",
            "   D-AUC for epoch80: 0.41205\n",
            "   D-inverse-AUC for epoch80: 0.41205\n"
          ],
          "name": "stdout"
        },
        {
          "output_type": "stream",
          "text": [
            "Clipping input data to the valid range for imshow with RGB data ([0..1] for floats or [0..255] for integers).\n",
            "Clipping input data to the valid range for imshow with RGB data ([0..1] for floats or [0..255] for integers).\n"
          ],
          "name": "stderr"
        },
        {
          "output_type": "stream",
          "text": [
            "->Epoch 81, Training Index 160, Latest RestoreError 0.0013939699856564403\n",
            "->Epoch 81, Training Index 460, Latest RestoreError 0.0014438352081924677\n",
            "->Epoch 81, Training Index 760, Latest RestoreError 0.0013653462519869208\n",
            "[81] {'loss_D': 13.0795, 'loss_G': 3.1266, 'loss_D_real': 0.0, 'loss_D_fake': 26.159, 'loss_G_fake': 0.0, 'loss_G_L1': 0.0313}, time_cost:\n"
          ],
          "name": "stdout"
        },
        {
          "output_type": "stream",
          "text": [
            "Clipping input data to the valid range for imshow with RGB data ([0..1] for floats or [0..255] for integers).\n",
            "Clipping input data to the valid range for imshow with RGB data ([0..1] for floats or [0..255] for integers).\n"
          ],
          "name": "stderr"
        },
        {
          "output_type": "stream",
          "text": [
            "->Epoch 82, Training Index 130, Latest RestoreError 0.0016185225686058402\n",
            "->Epoch 82, Training Index 430, Latest RestoreError 0.001532818889245391\n",
            "->Epoch 82, Training Index 730, Latest RestoreError 0.001740658306516707\n",
            "->Epoch 82, Training Index 1030, Latest RestoreError 0.001292574219405651\n",
            "[82] {'loss_D': 15.6128, 'loss_G': 2.4833, 'loss_D_real': 0.0, 'loss_D_fake': 31.2256, 'loss_G_fake': 0.0, 'loss_G_L1': 0.0248}, time_cost:\n"
          ],
          "name": "stdout"
        },
        {
          "output_type": "stream",
          "text": [
            "Clipping input data to the valid range for imshow with RGB data ([0..1] for floats or [0..255] for integers).\n",
            "Clipping input data to the valid range for imshow with RGB data ([0..1] for floats or [0..255] for integers).\n"
          ],
          "name": "stderr"
        },
        {
          "output_type": "stream",
          "text": [
            "->Epoch 83, Training Index 400, Latest RestoreError 0.001336219604127109\n",
            "->Epoch 83, Training Index 700, Latest RestoreError 0.001263597048819065\n",
            "->Epoch 83, Training Index 1000, Latest RestoreError 0.00152677483856678\n",
            "[83] {'loss_D': 17.3554, 'loss_G': 2.4541, 'loss_D_real': 0.0, 'loss_D_fake': 34.7107, 'loss_G_fake': 0.0, 'loss_G_L1': 0.0245}, time_cost:\n"
          ],
          "name": "stdout"
        },
        {
          "output_type": "stream",
          "text": [
            "Clipping input data to the valid range for imshow with RGB data ([0..1] for floats or [0..255] for integers).\n",
            "Clipping input data to the valid range for imshow with RGB data ([0..1] for floats or [0..255] for integers).\n"
          ],
          "name": "stderr"
        },
        {
          "output_type": "stream",
          "text": [
            "->Epoch 84, Training Index 370, Latest RestoreError 0.0013852694537490606\n",
            "->Epoch 84, Training Index 670, Latest RestoreError 0.0013583572581410408\n",
            "->Epoch 84, Training Index 970, Latest RestoreError 0.0012962931068614125\n",
            "[84] {'loss_D': 10.006, 'loss_G': 2.7532, 'loss_D_real': 0.0, 'loss_D_fake': 20.0119, 'loss_G_fake': 0.0, 'loss_G_L1': 0.0275}, time_cost:\n"
          ],
          "name": "stdout"
        },
        {
          "output_type": "stream",
          "text": [
            "Clipping input data to the valid range for imshow with RGB data ([0..1] for floats or [0..255] for integers).\n",
            "Clipping input data to the valid range for imshow with RGB data ([0..1] for floats or [0..255] for integers).\n"
          ],
          "name": "stderr"
        },
        {
          "output_type": "stream",
          "text": [
            "->Epoch 85, Training Index 340, Latest RestoreError 0.0013388660736382008\n",
            "->Epoch 85, Training Index 640, Latest RestoreError 0.0012793086934834719\n",
            "->Epoch 85, Training Index 940, Latest RestoreError 0.0013145443517714739\n",
            "[85] {'loss_D': 11.6674, 'loss_G': 2.9912, 'loss_D_real': 0.0, 'loss_D_fake': 23.3347, 'loss_G_fake': 0.0, 'loss_G_L1': 0.0299}, time_cost:\n",
            "Test SnapShot:\n",
            "EPOCH: 85\n",
            " Generator Stats: \n",
            "   G-Noraml  avg: 0.00900, std: 0.00561\n",
            "   G-Abnoraml  avg: 0.01708, std: 0.01472\n",
            "   G-AUC for epoch85: 0.72437\n",
            " Discriminator Stats: \n",
            "   D-Noraml  avg: 0.99986, std: 0.00086\n",
            "   D-Abnoraml  avg: 0.99708, std: 0.02773\n",
            "   D-AUC for epoch85: 0.39947\n",
            "   D-inverse-AUC for epoch85: 0.39947\n"
          ],
          "name": "stdout"
        },
        {
          "output_type": "stream",
          "text": [
            "Clipping input data to the valid range for imshow with RGB data ([0..1] for floats or [0..255] for integers).\n",
            "Clipping input data to the valid range for imshow with RGB data ([0..1] for floats or [0..255] for integers).\n"
          ],
          "name": "stderr"
        },
        {
          "output_type": "stream",
          "text": [
            "->Epoch 86, Training Index 280, Latest RestoreError 0.0014389898860827088\n",
            "->Epoch 86, Training Index 580, Latest RestoreError 0.0011922137346118689\n",
            "->Epoch 86, Training Index 880, Latest RestoreError 0.0013533090241253376\n",
            "[86] {'loss_D': 15.5454, 'loss_G': 2.4821, 'loss_D_real': 0.0, 'loss_D_fake': 31.0908, 'loss_G_fake': 0.0, 'loss_G_L1': 0.0248}, time_cost:\n"
          ],
          "name": "stdout"
        },
        {
          "output_type": "stream",
          "text": [
            "Clipping input data to the valid range for imshow with RGB data ([0..1] for floats or [0..255] for integers).\n",
            "Clipping input data to the valid range for imshow with RGB data ([0..1] for floats or [0..255] for integers).\n"
          ],
          "name": "stderr"
        },
        {
          "output_type": "stream",
          "text": [
            "->Epoch 87, Training Index 250, Latest RestoreError 0.0012284290278330445\n",
            "->Epoch 87, Training Index 550, Latest RestoreError 0.0012222545919939876\n",
            "->Epoch 87, Training Index 850, Latest RestoreError 0.0013359319418668747\n",
            "[87] {'loss_D': 17.2183, 'loss_G': 2.4413, 'loss_D_real': 0.0, 'loss_D_fake': 34.4366, 'loss_G_fake': 0.0, 'loss_G_L1': 0.0244}, time_cost:\n"
          ],
          "name": "stdout"
        },
        {
          "output_type": "stream",
          "text": [
            "Clipping input data to the valid range for imshow with RGB data ([0..1] for floats or [0..255] for integers).\n",
            "Clipping input data to the valid range for imshow with RGB data ([0..1] for floats or [0..255] for integers).\n"
          ],
          "name": "stderr"
        },
        {
          "output_type": "stream",
          "text": [
            "->Epoch 88, Training Index 220, Latest RestoreError 0.0013205393915995955\n",
            "->Epoch 88, Training Index 520, Latest RestoreError 0.0015341341495513916\n",
            "->Epoch 88, Training Index 820, Latest RestoreError 0.0014236150309443474\n",
            "[88] {'loss_D': 15.602, 'loss_G': 2.6876, 'loss_D_real': 0.0, 'loss_D_fake': 31.2039, 'loss_G_fake': 0.0, 'loss_G_L1': 0.0269}, time_cost:\n"
          ],
          "name": "stdout"
        },
        {
          "output_type": "stream",
          "text": [
            "Clipping input data to the valid range for imshow with RGB data ([0..1] for floats or [0..255] for integers).\n",
            "Clipping input data to the valid range for imshow with RGB data ([0..1] for floats or [0..255] for integers).\n"
          ],
          "name": "stderr"
        },
        {
          "output_type": "stream",
          "text": [
            "->Epoch 89, Training Index 190, Latest RestoreError 0.0011766840470954776\n",
            "->Epoch 89, Training Index 490, Latest RestoreError 0.0013599726371467113\n",
            "->Epoch 89, Training Index 790, Latest RestoreError 0.0014226397033780813\n",
            "[89] {'loss_D': 18.4452, 'loss_G': 3.1104, 'loss_D_real': 0.0, 'loss_D_fake': 36.8903, 'loss_G_fake': 0.0, 'loss_G_L1': 0.0311}, time_cost:\n"
          ],
          "name": "stdout"
        },
        {
          "output_type": "stream",
          "text": [
            "Clipping input data to the valid range for imshow with RGB data ([0..1] for floats or [0..255] for integers).\n",
            "Clipping input data to the valid range for imshow with RGB data ([0..1] for floats or [0..255] for integers).\n"
          ],
          "name": "stderr"
        },
        {
          "output_type": "stream",
          "text": [
            "->Epoch 90, Training Index 160, Latest RestoreError 0.0013003189815208316\n",
            "->Epoch 90, Training Index 460, Latest RestoreError 0.0011382517404854298\n",
            "->Epoch 90, Training Index 760, Latest RestoreError 0.0013160003582015634\n"
          ],
          "name": "stdout"
        }
      ]
    },
    {
      "cell_type": "markdown",
      "metadata": {
        "id": "1Godnz2xB0Ur",
        "colab_type": "raw"
      },
      "source": [
        "# train!\n",
        "G.load_state_dict(torch.load(\"model/G_0035\"))\n",
        "D.load_state_dict(torch.load(\"model/D_0035\"))"
      ]
    },
    {
      "cell_type": "code",
      "metadata": {
        "id": "AqFAgylrB0Uw",
        "colab_type": "code",
        "colab": {}
      },
      "source": [
        "!nvidia-smi -l 1"
      ],
      "execution_count": null,
      "outputs": []
    },
    {
      "cell_type": "markdown",
      "metadata": {
        "id": "AdLeHzCrJtxo",
        "colab_type": "text"
      },
      "source": [
        "# Works Cited"
      ]
    },
    {
      "cell_type": "markdown",
      "metadata": {
        "id": "UXcSBEy8J0pf",
        "colab_type": "text"
      },
      "source": [
        "[1] Zhang , Jianpeng. et al, \"Viral Pneumonia Screening on Chest X-ray Images Using Confidence-Aware Anomaly Detection,\" arXiv:2003.12338, 2020.\n"
      ]
    }
  ]
}